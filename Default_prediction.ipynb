{
 "cells": [
  {
   "cell_type": "code",
   "execution_count": 7,
   "id": "0e0dc808",
   "metadata": {
    "scrolled": true,
    "ExecuteTime": {
     "end_time": "2024-02-18T07:32:27.245499600Z",
     "start_time": "2024-02-18T07:32:27.231859400Z"
    }
   },
   "outputs": [],
   "source": [
    "import pandas as pd\n",
    "import numpy as np\n",
    "import matplotlib.pyplot as plt\n",
    "import seaborn as sns\n",
    "import plotly.express as px\n",
    "from sklearn.model_selection import train_test_split\n",
    "\n",
    "from sklearn.datasets import make_classification\n",
    "from sklearn.model_selection import KFold\n",
    "from sklearn.model_selection import cross_val_score\n",
    "from sklearn import linear_model\n",
    "from sklearn.linear_model import LogisticRegression, LinearRegression\n",
    "from sklearn.metrics import recall_score, precision_score, f1_score\n",
    "from sklearn.neighbors import KNeighborsRegressor\n",
    "from sklearn.ensemble import RandomForestClassifier\n",
    "from sklearn.datasets import make_classification\n",
    "from sklearn.model_selection import GridSearchCV, train_test_split\n",
    "\n",
    "from sklearn.linear_model import LassoCV\n",
    "from sklearn.datasets import make_regression\n"
   ]
  },
  {
   "cell_type": "markdown",
   "id": "97e94d7a",
   "metadata": {},
   "source": [
    "## Pre-Processing \n",
    "- Read the feather file into a dataframe \n",
    "- Drop some columns that do we do not want as the independent variables (Xs)"
   ]
  },
  {
   "cell_type": "code",
   "execution_count": 8,
   "id": "2915229e",
   "metadata": {
    "ExecuteTime": {
     "end_time": "2024-02-18T07:32:38.848054Z",
     "start_time": "2024-02-18T07:32:34.785536800Z"
    }
   },
   "outputs": [],
   "source": [
    "# df = pd.read_csv('lending_club_clean_sample.csv')\n",
    "# df = pd.read_feather('lending_club_smaller_sample.feather')\n",
    "\n",
    "# Read the feather file \n",
    "df = pd.read_feather('lending_club_clean.feather')"
   ]
  },
  {
   "cell_type": "markdown",
   "id": "1b09e1de",
   "metadata": {},
   "source": [
    "See which values we can classify as a default or cannot repay the loan "
   ]
  },
  {
   "cell_type": "code",
   "execution_count": 9,
   "id": "76308a3c",
   "metadata": {
    "ExecuteTime": {
     "end_time": "2024-02-18T07:32:42.195784400Z",
     "start_time": "2024-02-18T07:32:42.164639800Z"
    }
   },
   "outputs": [
    {
     "name": "stdout",
     "output_type": "stream",
     "text": [
      "loan_status                                        \n",
      "Fully Paid                                             1497783\n",
      "Current                                                1031016\n",
      "Charged Off                                             362548\n",
      "Late (31-120 days)                                       16154\n",
      "In Grace Period                                          10028\n",
      "Late (16-30 days)                                         2719\n",
      "Issued                                                    2062\n",
      "Does not meet the credit policy. Status:Fully Paid        1988\n",
      "Does not meet the credit policy. Status:Charged Off        761\n",
      "Default                                                    433\n",
      "dtype: int64\n"
     ]
    }
   ],
   "source": [
    "# Check what kind of status does our Y variable have \n",
    "print(df[['loan_status']].value_counts())"
   ]
  },
  {
   "cell_type": "code",
   "execution_count": 10,
   "id": "1ca6360f",
   "metadata": {
    "ExecuteTime": {
     "end_time": "2024-02-18T07:32:48.170334600Z",
     "start_time": "2024-02-18T07:32:48.132696400Z"
    }
   },
   "outputs": [],
   "source": [
    "# Convert description into a default or not default prediction \n",
    "default_description = [\"Charged Off\", \"Default\", \"Does not meet the credit policy. Status:Charged Off\", \"In Grace Period\",\n",
    "            \"Late (16-30 days)\", \"Late (31-120 days)\"]\n",
    "df['default'] = df['loan_status'].apply(lambda status: 1 if status in default_description else 0).astype(int) "
   ]
  },
  {
   "cell_type": "code",
   "execution_count": 11,
   "id": "76ce64b0",
   "metadata": {
    "ExecuteTime": {
     "end_time": "2024-02-18T07:32:50.391541800Z",
     "start_time": "2024-02-18T07:32:50.205321300Z"
    }
   },
   "outputs": [],
   "source": [
    "# Create a different dataframe for the Y variable \n",
    "y = df['default']\n",
    "\n",
    "# Drop unnecessary variables \n",
    "df = df.drop(['id', 'default', 'revol_util' ,'sec_app_earliest_cr_line','loan_status', 'grade', 'sub_grade', \n",
    "              'emp_title', 'issue_d','url','title',\n",
    "              'zip_code','earliest_cr_line','last_pymnt_d',\n",
    "              'next_pymnt_d','last_credit_pull_d','hardship_type',\n",
    "              'hardship_start_date','hardship_end_date',\n",
    "              'payment_plan_start_date','hardship_loan_status','debt_settlement_flag'], axis=1)\n"
   ]
  },
  {
   "cell_type": "code",
   "execution_count": 12,
   "id": "6a5039f0",
   "metadata": {
    "ExecuteTime": {
     "end_time": "2024-02-18T07:32:57.999299700Z",
     "start_time": "2024-02-18T07:32:51.812581300Z"
    }
   },
   "outputs": [],
   "source": [
    "# Properly turn variables that are categorical into the correct data type\n",
    "df = pd.concat([df,pd.get_dummies(df[\"emp_length\"],drop_first=True)],axis=1)\n",
    "df = pd.concat([df,pd.get_dummies(df[\"addr_state\"],drop_first=True)],axis=1)\n",
    "df = pd.concat([df,pd.get_dummies(df[\"home_ownership\"],drop_first=True)],axis=1)\n",
    "df = pd.concat([df,pd.get_dummies(df[\"verification_status\"],drop_first=True)],axis=1)\n",
    "df = pd.concat([df,pd.get_dummies(df[\"pymnt_plan\"],drop_first=True)],axis=1)\n",
    "df = pd.concat([df,pd.get_dummies(df[\"purpose\"],drop_first=True)],axis=1)\n",
    "df = pd.concat([df,pd.get_dummies(df[\"initial_list_status\"],drop_first=True)],axis=1)\n",
    "df = pd.concat([df,pd.get_dummies(df[\"application_type\"],drop_first=True)],axis=1)\n",
    "df = pd.concat([df,pd.get_dummies(df[\"hardship_flag\"],drop_first=True)],axis=1)\n",
    "df = pd.concat([df,pd.get_dummies(df[\"hardship_reason\"],drop_first=True)],axis=1)\n",
    "df = pd.concat([df,pd.get_dummies(df[\"verification_status_joint\"],drop_first=True)],axis=1)\n",
    "df = pd.concat([df,pd.get_dummies(df[\"hardship_status\"],drop_first=True)],axis=1)\n",
    "\n",
    "# drop the categorical columns as well \n",
    "df = df.drop(['emp_length', 'addr_state', 'home_ownership', \n",
    "              'verification_status', 'pymnt_plan','purpose','initial_list_status',\n",
    "              'application_type','hardship_flag',\n",
    "              'hardship_reason','verification_status_joint','hardship_status'], axis=1)\n",
    "\n",
    " "
   ]
  },
  {
   "cell_type": "markdown",
   "id": "fd4ab5ce",
   "metadata": {},
   "source": [
    "# Split the Test - Train Dataset "
   ]
  },
  {
   "cell_type": "code",
   "execution_count": 13,
   "id": "009fc525",
   "metadata": {
    "ExecuteTime": {
     "end_time": "2024-02-18T07:33:06.310283100Z",
     "start_time": "2024-02-18T07:33:02.101569200Z"
    }
   },
   "outputs": [],
   "source": [
    "# Split train test dataset \n",
    "X_train, X_OOS_test, y_train, y_OOS_test = train_test_split(df, y, test_size=0.20, random_state=66)"
   ]
  },
  {
   "cell_type": "markdown",
   "id": "37b3a658",
   "metadata": {},
   "source": [
    "## Employ LASSO to reduce initial dimension \n",
    "We want to use LASSO right now to reduce the dimension from almost 100 to only those that play a significant role in predicting our dependent variable. "
   ]
  },
  {
   "cell_type": "code",
   "execution_count": 14,
   "id": "a68b6c75",
   "metadata": {
    "ExecuteTime": {
     "end_time": "2024-02-18T07:36:53.912884400Z",
     "start_time": "2024-02-18T07:33:08.401409400Z"
    }
   },
   "outputs": [
    {
     "name": "stderr",
     "output_type": "stream",
     "text": [
      "C:\\Users\\16920\\anaconda3\\Lib\\site-packages\\sklearn\\linear_model\\_coordinate_descent.py:628: ConvergenceWarning: Objective did not converge. You might want to increase the number of iterations, check the scale of the features or consider increasing regularisation. Duality gap: 6.246e+03, tolerance: 2.718e+01\n",
      "  model = cd_fast.enet_coordinate_descent(\n"
     ]
    },
    {
     "data": {
      "text/plain": "Lasso(alpha=1)",
      "text/html": "<style>#sk-container-id-1 {color: black;}#sk-container-id-1 pre{padding: 0;}#sk-container-id-1 div.sk-toggleable {background-color: white;}#sk-container-id-1 label.sk-toggleable__label {cursor: pointer;display: block;width: 100%;margin-bottom: 0;padding: 0.3em;box-sizing: border-box;text-align: center;}#sk-container-id-1 label.sk-toggleable__label-arrow:before {content: \"▸\";float: left;margin-right: 0.25em;color: #696969;}#sk-container-id-1 label.sk-toggleable__label-arrow:hover:before {color: black;}#sk-container-id-1 div.sk-estimator:hover label.sk-toggleable__label-arrow:before {color: black;}#sk-container-id-1 div.sk-toggleable__content {max-height: 0;max-width: 0;overflow: hidden;text-align: left;background-color: #f0f8ff;}#sk-container-id-1 div.sk-toggleable__content pre {margin: 0.2em;color: black;border-radius: 0.25em;background-color: #f0f8ff;}#sk-container-id-1 input.sk-toggleable__control:checked~div.sk-toggleable__content {max-height: 200px;max-width: 100%;overflow: auto;}#sk-container-id-1 input.sk-toggleable__control:checked~label.sk-toggleable__label-arrow:before {content: \"▾\";}#sk-container-id-1 div.sk-estimator input.sk-toggleable__control:checked~label.sk-toggleable__label {background-color: #d4ebff;}#sk-container-id-1 div.sk-label input.sk-toggleable__control:checked~label.sk-toggleable__label {background-color: #d4ebff;}#sk-container-id-1 input.sk-hidden--visually {border: 0;clip: rect(1px 1px 1px 1px);clip: rect(1px, 1px, 1px, 1px);height: 1px;margin: -1px;overflow: hidden;padding: 0;position: absolute;width: 1px;}#sk-container-id-1 div.sk-estimator {font-family: monospace;background-color: #f0f8ff;border: 1px dotted black;border-radius: 0.25em;box-sizing: border-box;margin-bottom: 0.5em;}#sk-container-id-1 div.sk-estimator:hover {background-color: #d4ebff;}#sk-container-id-1 div.sk-parallel-item::after {content: \"\";width: 100%;border-bottom: 1px solid gray;flex-grow: 1;}#sk-container-id-1 div.sk-label:hover label.sk-toggleable__label {background-color: #d4ebff;}#sk-container-id-1 div.sk-serial::before {content: \"\";position: absolute;border-left: 1px solid gray;box-sizing: border-box;top: 0;bottom: 0;left: 50%;z-index: 0;}#sk-container-id-1 div.sk-serial {display: flex;flex-direction: column;align-items: center;background-color: white;padding-right: 0.2em;padding-left: 0.2em;position: relative;}#sk-container-id-1 div.sk-item {position: relative;z-index: 1;}#sk-container-id-1 div.sk-parallel {display: flex;align-items: stretch;justify-content: center;background-color: white;position: relative;}#sk-container-id-1 div.sk-item::before, #sk-container-id-1 div.sk-parallel-item::before {content: \"\";position: absolute;border-left: 1px solid gray;box-sizing: border-box;top: 0;bottom: 0;left: 50%;z-index: -1;}#sk-container-id-1 div.sk-parallel-item {display: flex;flex-direction: column;z-index: 1;position: relative;background-color: white;}#sk-container-id-1 div.sk-parallel-item:first-child::after {align-self: flex-end;width: 50%;}#sk-container-id-1 div.sk-parallel-item:last-child::after {align-self: flex-start;width: 50%;}#sk-container-id-1 div.sk-parallel-item:only-child::after {width: 0;}#sk-container-id-1 div.sk-dashed-wrapped {border: 1px dashed gray;margin: 0 0.4em 0.5em 0.4em;box-sizing: border-box;padding-bottom: 0.4em;background-color: white;}#sk-container-id-1 div.sk-label label {font-family: monospace;font-weight: bold;display: inline-block;line-height: 1.2em;}#sk-container-id-1 div.sk-label-container {text-align: center;}#sk-container-id-1 div.sk-container {/* jupyter's `normalize.less` sets `[hidden] { display: none; }` but bootstrap.min.css set `[hidden] { display: none !important; }` so we also need the `!important` here to be able to override the default hidden behavior on the sphinx rendered scikit-learn.org. See: https://github.com/scikit-learn/scikit-learn/issues/21755 */display: inline-block !important;position: relative;}#sk-container-id-1 div.sk-text-repr-fallback {display: none;}</style><div id=\"sk-container-id-1\" class=\"sk-top-container\"><div class=\"sk-text-repr-fallback\"><pre>Lasso(alpha=1)</pre><b>In a Jupyter environment, please rerun this cell to show the HTML representation or trust the notebook. <br />On GitHub, the HTML representation is unable to render, please try loading this page with nbviewer.org.</b></div><div class=\"sk-container\" hidden><div class=\"sk-item\"><div class=\"sk-estimator sk-toggleable\"><input class=\"sk-toggleable__control sk-hidden--visually\" id=\"sk-estimator-id-1\" type=\"checkbox\" checked><label for=\"sk-estimator-id-1\" class=\"sk-toggleable__label sk-toggleable__label-arrow\">Lasso</label><div class=\"sk-toggleable__content\"><pre>Lasso(alpha=1)</pre></div></div></div></div></div>"
     },
     "execution_count": 14,
     "metadata": {},
     "output_type": "execute_result"
    }
   ],
   "source": [
    "# We do the LASSO to determine which variables are important and which are not \n",
    "lasso = linear_model.Lasso(alpha=1)\n",
    "lasso.fit(X_train, y_train)"
   ]
  },
  {
   "cell_type": "code",
   "execution_count": 18,
   "outputs": [
    {
     "name": "stdout",
     "output_type": "stream",
     "text": [
      "Lasso Coefficients:\n",
      "loan_amnt: 3.215231192659518e-05\n",
      "funded_amnt: 1.1160011603047951e-05\n",
      "annual_inc: -1.8982938476397474e-08\n",
      "revol_bal: -1.3455352569173814e-07\n",
      "out_prncp: -4.585172374295004e-05\n",
      "total_pymnt: -1.8772799799737878e-05\n",
      "total_rec_prncp: -2.7344365070971457e-05\n",
      "total_rec_int: 2.031478072522598e-05\n",
      "recoveries: 2.9901604379513027e-05\n",
      "last_pymnt_amnt: -2.22202593993967e-06\n",
      "last_fico_range_high: -0.000714724741138563\n",
      "last_fico_range_low: -0.00035849692967635974\n",
      "annual_inc_joint: 2.8253078616216065e-08\n",
      "tot_coll_amt: -1.1181006617159456e-08\n",
      "tot_cur_bal: -4.49836025494085e-08\n",
      "total_bal_il: -1.6930576857907e-07\n",
      "max_bal_bc: -2.493930417498113e-07\n",
      "total_rev_hi_lim: 7.770688821401887e-08\n",
      "avg_cur_bal: 3.416832458240612e-08\n",
      "bc_open_to_buy: 4.205030071359258e-07\n",
      "tot_hi_cred_lim: 3.203413496903826e-08\n",
      "total_bal_ex_mort: 6.628786150700645e-08\n",
      "total_bc_limit: -3.765805148543368e-08\n",
      "total_il_high_credit_limit: 1.9848973632376987e-12\n",
      "hardship_amount: 4.7275769945532336e-05\n",
      "hardship_payoff_balance_amount: 1.21169840753576e-06\n"
     ]
    }
   ],
   "source": [
    "# Print Lasso Coefficients that is not 0 \n",
    "coefficients = dict(zip(X_train.columns, lasso.coef_))\n",
    "print(\"Lasso Coefficients:\")\n",
    "lasso_picked_var = []\n",
    "for feature, coef in coefficients.items():\n",
    "    if coef != 0:\n",
    "        lasso_picked_var.append(feature)\n",
    "        print(f\"{feature}: {coef}\")"
   ],
   "metadata": {
    "collapsed": false,
    "ExecuteTime": {
     "end_time": "2024-02-18T07:43:03.055067100Z",
     "start_time": "2024-02-18T07:43:03.039685900Z"
    }
   },
   "id": "9ce4a0d52d61246c"
  },
  {
   "cell_type": "code",
   "execution_count": 23,
   "outputs": [
    {
     "data": {
      "text/plain": "<Figure size 1500x1000 with 1 Axes>",
      "image/png": "[encoded data removed]"
     },
     "metadata": {},
     "output_type": "display_data"
    }
   ],
   "source": [
    "# Variable Visualization\n",
    "\n",
    "# Sorting the DataFrame by the absolute value of the coefficients\n",
    "sorted_coefficients_df = coefficients_df[coefficients_df['Coefficient'] != 0].sort_values('abs_coef', ascending=False)\n",
    "\n",
    "# Drop the 'abs_coef' column as it's no longer needed for plotting\n",
    "sorted_coefficients_df.drop('abs_coef', axis=1, inplace=True)\n",
    "\n",
    "# Plotting all non-zero features, sorted by the absolute value of their coefficients\n",
    "plt.figure(figsize=(15, 10))\n",
    "plt.bar(sorted_coefficients_df['Feature'], sorted_coefficients_df['Coefficient'])\n",
    "plt.xlabel('Features')\n",
    "plt.ylabel('Coefficient Value')\n",
    "plt.title('Lasso Coefficients - Sorted by Absolute Value')\n",
    "\n",
    "# Rotate the feature names on x-axis to avoid overlap\n",
    "plt.xticks(rotation=90)\n",
    "\n",
    "# Use tight layout to ensure the labels fit into the figure area\n",
    "plt.tight_layout()\n",
    "\n",
    "# Show the plot\n",
    "plt.show()\n"
   ],
   "metadata": {
    "collapsed": false,
    "ExecuteTime": {
     "end_time": "2024-02-18T07:53:30.349859Z",
     "start_time": "2024-02-18T07:53:29.798260500Z"
    }
   },
   "id": "3535e564adb414b1"
  },
  {
   "cell_type": "markdown",
   "id": "d8ca4826",
   "metadata": {},
   "source": [
    "## Uncomment the codes below incase the python needs to restart to save time doing the LASSO again "
   ]
  },
  {
   "cell_type": "code",
   "execution_count": 2,
   "id": "a615bb8f",
   "metadata": {},
   "outputs": [],
   "source": [
    "# pick the X variables that LASSO tells us are significant\n",
    "# X_train = X_train[lasso_picked_var]\n",
    "# X_OOS_test = X_OOS_test[lasso_picked_var]\n",
    "\n",
    "# Output these files onto a csv file just incase we need to load them in again :) \n",
    "# X_train.to_csv('X_train.csv', index=False) \n",
    "# X_OOS_test.to_csv('X_OOS_test.csv', index=False) \n",
    "# y_train.to_csv('y_train.csv', index=False) \n",
    "# y_OOS_test.to_csv('y_OOS_test.csv', index=False) \n",
    "\n",
    "# X_train = pd.read_csv('X_train.csv')\n",
    "# y_train = pd.read_csv('y_train.csv')['default']\n",
    "# X_OOS_test = pd.read_csv('X_OOS_test.csv')\n",
    "# y_OOS_test = pd.read_csv('y_OOS_test.csv')['default']\n",
    "\n"
   ]
  },
  {
   "cell_type": "markdown",
   "id": "805cb854",
   "metadata": {},
   "source": [
    "## Undersampling \n",
    "Since we see that the data is highly imbalanced, we try to oversample the data set with random under sampler. "
   ]
  },
  {
   "cell_type": "code",
   "execution_count": 7,
   "id": "9d2d7d84",
   "metadata": {},
   "outputs": [],
   "source": [
    "# from imblearn.over_sampling import SMOTE\n",
    "\n",
    "# solve error by downgrading to install scikit-learn==1.2.2 \n",
    "# ''' steps : \n",
    "# 1. install pip \n",
    "# 2. uninstall sci-kit \n",
    "# 3. uninstall imblearn\n",
    "# 4. install sci-kit 1.2.2 \n",
    "# 5. install imblearn \n",
    "# '''\n",
    "\n",
    "# sm = SMOTE(random_state=42, sampling_strategy=0.2)"
   ]
  },
  {
   "cell_type": "code",
   "execution_count": 8,
   "id": "1a528c4d",
   "metadata": {},
   "outputs": [],
   "source": [
    "# Undersampling \n",
    "from imblearn.under_sampling import RandomUnderSampler\n",
    "# Undersample the dataset \n",
    "rus = RandomUnderSampler(random_state=0)\n",
    "X_resampled, y_resampled = rus.fit_resample(X_train, y_train)"
   ]
  },
  {
   "cell_type": "markdown",
   "id": "f5e782f8",
   "metadata": {},
   "source": [
    "See if the data is now balance or not "
   ]
  },
  {
   "cell_type": "code",
   "execution_count": 8,
   "id": "f27f4bf8",
   "metadata": {},
   "outputs": [
    {
     "name": "stdout",
     "output_type": "stream",
     "text": [
      "default\n",
      "0          313925\n",
      "1          313925\n",
      "dtype: int64\n"
     ]
    }
   ],
   "source": [
    "# Count the different values \n",
    "print(y_resampled.value_counts())\n",
    "\n",
    "# -- Code to Inspect the data set -- \n",
    "# df_oversampled = X_resampled\n",
    "# df_oversampled['Outcome_Variable'] = y_resampled\n",
    "# df_oversampled\n",
    "# fig, ax = plt.subplots(figsize=(10, 8))\n",
    "# df_oversampled['Outcome_Variable'].value_counts().plot(kind='bar', ax=ax, fontsize=14)\n",
    "# ax.set_title('Oversampled Dataset', fontsize=16)\n",
    "# ax.set_ylabel('Observation counts', fontsize=14)\n",
    "# ax.set_xlabel('Class', fontsize=14)\n",
    "# plt.show()\n"
   ]
  },
  {
   "cell_type": "markdown",
   "id": "61cbbecc",
   "metadata": {},
   "source": [
    "## K-Fold Cross Validation \n",
    "We setup K-Fold cross validation for parameters fine-tuning in the models below as a 5 Fold. "
   ]
  },
  {
   "cell_type": "code",
   "execution_count": 4,
   "id": "5d5baf83",
   "metadata": {},
   "outputs": [],
   "source": [
    "# Set up K-Fold Cross Validation \n",
    "n_splits = 5\n",
    "shuffle = True\n",
    "random_state = 809\n",
    "cv = KFold(n_splits=n_splits, shuffle=shuffle, random_state=random_state)\n",
    "# plot = plot_cv_indices(cv, X_resampled, y_resampled, n_splits)"
   ]
  },
  {
   "cell_type": "markdown",
   "id": "2991280a",
   "metadata": {},
   "source": [
    "## Model 1 : Logistic Regression "
   ]
  },
  {
   "cell_type": "code",
   "execution_count": 9,
   "id": "abb0ebd3",
   "metadata": {},
   "outputs": [],
   "source": [
    "# Function to plot the K-Fold stuff, don't need to run it. \n",
    "def plot_cv_indices(cv, X, y, n_splits, lw=10):\n",
    "    '''\n",
    "    This function plots the Cross validation indices.\n",
    "    '''\n",
    "    \n",
    "    fig, ax = plt.subplots(figsize = (15,8))\n",
    "    # Generate the training/testing visualizations for each CV split\n",
    "    for ii, (tr, tt) in enumerate(cv.split(X=X, y=y)):\n",
    "        # Fill in indices with the training/test groups\n",
    "        indices = np.array([np.nan] * len(X))\n",
    "        indices[tt] = 1\n",
    "        indices[tr] = 0\n",
    "\n",
    "        # Visualize the results\n",
    "        ax.scatter(range(len(indices)), [ii + .5] * len(indices),\n",
    "                   c=indices, marker='_', lw=lw, cmap=plt.cm.coolwarm,\n",
    "                   vmin=-.2, vmax=1.2)\n",
    "\n",
    "    # Plot the data classes\n",
    "    ax.scatter(range(len(X)), [ii + 1.5] * len(X), c=y, marker='_', lw=lw, cmap=plt.cm.Paired)\n",
    "\n",
    "    # Formatting\n",
    "    yticklabels = list(range(n_splits)) + ['Class']\n",
    "    ax.set(yticks=np.arange(n_splits+1) + .5, yticklabels=yticklabels,\n",
    "           xlabel='Sample index', ylabel=\"CV iteration\",\n",
    "           ylim=[n_splits+2.2, -.2])\n",
    "    ax.set_title('{}'.format(type(cv).__name__), fontsize=15)\n",
    "    return ax"
   ]
  },
  {
   "cell_type": "code",
   "execution_count": 139,
   "id": "1dbaa24c",
   "metadata": {},
   "outputs": [
    {
     "name": "stderr",
     "output_type": "stream",
     "text": [
      "/Users/dhammatornriewcharoon/anaconda3/lib/python3.11/site-packages/sklearn/linear_model/_logistic.py:458: ConvergenceWarning: lbfgs failed to converge (status=1):\n",
      "STOP: TOTAL NO. of ITERATIONS REACHED LIMIT.\n",
      "\n",
      "Increase the number of iterations (max_iter) or scale the data as shown in:\n",
      "    https://scikit-learn.org/stable/modules/preprocessing.html\n",
      "Please also refer to the documentation for alternative solver options:\n",
      "    https://scikit-learn.org/stable/modules/linear_model.html#logistic-regression\n",
      "  n_iter_i = _check_optimize_result(\n"
     ]
    },
    {
     "name": "stdout",
     "output_type": "stream",
     "text": [
      "0.9592338934458867\n"
     ]
    },
    {
     "name": "stderr",
     "output_type": "stream",
     "text": [
      "/Users/dhammatornriewcharoon/anaconda3/lib/python3.11/site-packages/sklearn/linear_model/_logistic.py:458: ConvergenceWarning: lbfgs failed to converge (status=1):\n",
      "STOP: TOTAL NO. of ITERATIONS REACHED LIMIT.\n",
      "\n",
      "Increase the number of iterations (max_iter) or scale the data as shown in:\n",
      "    https://scikit-learn.org/stable/modules/preprocessing.html\n",
      "Please also refer to the documentation for alternative solver options:\n",
      "    https://scikit-learn.org/stable/modules/linear_model.html#logistic-regression\n",
      "  n_iter_i = _check_optimize_result(\n"
     ]
    },
    {
     "name": "stdout",
     "output_type": "stream",
     "text": [
      "0.9577685752966473\n"
     ]
    },
    {
     "name": "stderr",
     "output_type": "stream",
     "text": [
      "/Users/dhammatornriewcharoon/anaconda3/lib/python3.11/site-packages/sklearn/linear_model/_logistic.py:458: ConvergenceWarning: lbfgs failed to converge (status=1):\n",
      "STOP: TOTAL NO. of ITERATIONS REACHED LIMIT.\n",
      "\n",
      "Increase the number of iterations (max_iter) or scale the data as shown in:\n",
      "    https://scikit-learn.org/stable/modules/preprocessing.html\n",
      "Please also refer to the documentation for alternative solver options:\n",
      "    https://scikit-learn.org/stable/modules/linear_model.html#logistic-regression\n",
      "  n_iter_i = _check_optimize_result(\n"
     ]
    },
    {
     "name": "stdout",
     "output_type": "stream",
     "text": [
      "0.9592338934458867\n"
     ]
    },
    {
     "name": "stderr",
     "output_type": "stream",
     "text": [
      "/Users/dhammatornriewcharoon/anaconda3/lib/python3.11/site-packages/sklearn/linear_model/_logistic.py:458: ConvergenceWarning: lbfgs failed to converge (status=1):\n",
      "STOP: TOTAL NO. of ITERATIONS REACHED LIMIT.\n",
      "\n",
      "Increase the number of iterations (max_iter) or scale the data as shown in:\n",
      "    https://scikit-learn.org/stable/modules/preprocessing.html\n",
      "Please also refer to the documentation for alternative solver options:\n",
      "    https://scikit-learn.org/stable/modules/linear_model.html#logistic-regression\n",
      "  n_iter_i = _check_optimize_result(\n"
     ]
    },
    {
     "name": "stdout",
     "output_type": "stream",
     "text": [
      "0.9592100023891057\n",
      "0.9564147487457195\n"
     ]
    },
    {
     "name": "stderr",
     "output_type": "stream",
     "text": [
      "/Users/dhammatornriewcharoon/anaconda3/lib/python3.11/site-packages/sklearn/linear_model/_logistic.py:458: ConvergenceWarning: lbfgs failed to converge (status=1):\n",
      "STOP: TOTAL NO. of ITERATIONS REACHED LIMIT.\n",
      "\n",
      "Increase the number of iterations (max_iter) or scale the data as shown in:\n",
      "    https://scikit-learn.org/stable/modules/preprocessing.html\n",
      "Please also refer to the documentation for alternative solver options:\n",
      "    https://scikit-learn.org/stable/modules/linear_model.html#logistic-regression\n",
      "  n_iter_i = _check_optimize_result(\n"
     ]
    }
   ],
   "source": [
    "# Model 1 : Logistic Model - K-Flod Cross Validation \n",
    "logistic_model = LogisticRegression(solver='lbfgs', max_iter=300)\n",
    "for train_index, test_index in cv.split(X_resampled):\n",
    "    X_cv_train, X_cv_test, y_cv_train, y_cv_test = X_resampled.iloc[train_index], X_resampled.iloc[test_index], y_resampled.iloc[train_index], y_resampled.iloc[test_index]\n",
    "    logistic_model.fit(X_cv_train, y_cv_train)\n",
    "    #Cross-Validation Prediction Error\n",
    "    score = logistic_model.score(X_cv_test, y_cv_test)\n",
    "    print(score)"
   ]
  },
  {
   "cell_type": "code",
   "execution_count": 121,
   "id": "5781f426",
   "metadata": {},
   "outputs": [
    {
     "name": "stdout",
     "output_type": "stream",
     "text": [
      "Logistic Model score : 0.9846037709350093\n",
      "Logistic Model Recall :  0.8631578947368421\n",
      "Logistic Model Precision :  0.08668076109936575\n",
      "Probability if you only predict 0s  0.998\n"
     ]
    }
   ],
   "source": [
    "# Just the logit regression, and OOS Prediction \n",
    "logit = LogisticRegression(solver='lbfgs', max_iter=1000)\n",
    "logit.fit(X_resampled, y_resampled)    \n",
    "score_OOS = logit.score(X_OOS_test, y_OOS_test)\n",
    "print (\"Logistic Model score :\" , score_OOS)\n",
    "y_pred = logit.predict(X_OOS_test)\n",
    "print(\"Logistic Model Recall : \" , recall_score(y_OOS_test, y_pred))\n",
    "print(\"Logistic Model Precision : \", precision_score(y_OOS_test,y_pred))\n",
    "print(\"Probability if you only predict 0s \", 1-round(95/56867,3))"
   ]
  },
  {
   "cell_type": "markdown",
   "id": "37c02911",
   "metadata": {},
   "source": [
    "\n",
    "\n",
    "## Model 2 : Lasso "
   ]
  },
  {
   "cell_type": "code",
   "execution_count": 10,
   "id": "1d072777",
   "metadata": {},
   "outputs": [],
   "source": [
    "# Model 2 : LASSO \n",
    "# Cross Validate the penalty term in lasso\n",
    "cross_validate_result = {}\n",
    "cross_validate_recall = {} \n",
    "cross_validate_precision = {} \n",
    "\n",
    "# Set Hyperparameter (Lambda) values to cross validate here !!!!! \n",
    "lambdas = [0.01, 0.1]\n",
    "for lambda_value in lambdas:\n",
    "    print('Training Lasso Lambda Value : ', lambda_value)\n",
    "    accuracies = []\n",
    "    recall_scores = [] \n",
    "    precision_scores = [] \n",
    "    lasso = linear_model.Lasso(alpha=lambda_value)\n",
    "    for train_index, test_index in cv.split(X_resampled):\n",
    "        # change to loc to define the rows in the dataframe \n",
    "        X_cv_train, X_cv_test, y_cv_train, y_cv_test = X_resampled.iloc[train_index], X_resampled.iloc[test_index], y_resampled.iloc[train_index], y_resampled.iloc[test_index]\n",
    "        lasso.fit(X_cv_train, y_cv_train)\n",
    "        y_pred = lasso.predict(X_cv_test)\n",
    "        y_pred_classification = [1 if x >= 0.5 else 0 for x in y_pred]\n",
    "\n",
    "        #Cross-Validation Prediction Error\n",
    "        score = lasso.score(X_cv_test, y_cv_test)\n",
    "        accuracies.append(score)\n",
    "        recall_scores.append(recall_score(y_cv_test, y_pred_classification))\n",
    "        precision_scores.append(precision_score(y_cv_test,y_pred_classification))\n",
    "\n",
    "    cross_validate_result[lambda_value] = (sum(accuracies)/len(accuracies))\n",
    "    cross_validate_recall[lambda_value] = (sum(recall_scores)/len(recall_scores))\n",
    "    cross_validate_precision[lambda_value] = (sum(precision_scores)/len(precision_scores))\n",
    "\n",
    "    print(\"Lambda Value Accuracy : \" + str(lambda_value) + \" \" + str((sum(accuracies)/len(accuracies))))\n",
    "    print(\"Lambda Value Precision : \" + str(lambda_value) + \" \" + str((sum(recall_scores)/len(recall_scores))))\n",
    "    print(\"Lambda Value Recall : \" + str(lambda_value) + \" \" + str((sum(precision_scores)/len(precision_scores))))\n",
    "\n",
    "# At the end you'll see what the value of each LASSO paramter is\n",
    "print('Accuracy : ', cross_validate_result)\n",
    "print('Precision : ',cross_validate_precision)\n",
    "print('Recall : ',cross_validate_recall)\n",
    "print(max(cross_validate_result, key=cross_validate_result.get))\n",
    "    "
   ]
  },
  {
   "cell_type": "markdown",
   "id": "78b24e00",
   "metadata": {},
   "source": [
    "## RUN LASSO GRID SEARCH HERE"
   ]
  },
  {
   "cell_type": "code",
   "execution_count": 11,
   "id": "ef2299ba",
   "metadata": {},
   "outputs": [
    {
     "ename": "KeyboardInterrupt",
     "evalue": "",
     "output_type": "error",
     "traceback": [
      "\u001B[0;31m---------------------------------------------------------------------------\u001B[0m",
      "\u001B[0;31mKeyboardInterrupt\u001B[0m                         Traceback (most recent call last)",
      "Cell \u001B[0;32mIn[11], line 4\u001B[0m\n\u001B[1;32m      2\u001B[0m param_grid \u001B[38;5;241m=\u001B[39m [{\u001B[38;5;124m'\u001B[39m\u001B[38;5;124malpha\u001B[39m\u001B[38;5;124m'\u001B[39m: [\u001B[38;5;241m0.01\u001B[39m, \u001B[38;5;241m0.1\u001B[39m]}]\n\u001B[1;32m      3\u001B[0m grid_cv \u001B[38;5;241m=\u001B[39m GridSearchCV(estimator\u001B[38;5;241m=\u001B[39mlasso, cv\u001B[38;5;241m=\u001B[39mcv, param_grid\u001B[38;5;241m=\u001B[39mparam_grid, n_jobs \u001B[38;5;241m=\u001B[39m \u001B[38;5;241m-\u001B[39m\u001B[38;5;241m1\u001B[39m)\n\u001B[0;32m----> 4\u001B[0m grid_cv\u001B[38;5;241m.\u001B[39mfit(X_resampled, y_resampled)\n",
      "File \u001B[0;32m~/anaconda3/lib/python3.11/site-packages/sklearn/model_selection/_search.py:874\u001B[0m, in \u001B[0;36mBaseSearchCV.fit\u001B[0;34m(self, X, y, groups, **fit_params)\u001B[0m\n\u001B[1;32m    868\u001B[0m     results \u001B[38;5;241m=\u001B[39m \u001B[38;5;28mself\u001B[39m\u001B[38;5;241m.\u001B[39m_format_results(\n\u001B[1;32m    869\u001B[0m         all_candidate_params, n_splits, all_out, all_more_results\n\u001B[1;32m    870\u001B[0m     )\n\u001B[1;32m    872\u001B[0m     \u001B[38;5;28;01mreturn\u001B[39;00m results\n\u001B[0;32m--> 874\u001B[0m \u001B[38;5;28mself\u001B[39m\u001B[38;5;241m.\u001B[39m_run_search(evaluate_candidates)\n\u001B[1;32m    876\u001B[0m \u001B[38;5;66;03m# multimetric is determined here because in the case of a callable\u001B[39;00m\n\u001B[1;32m    877\u001B[0m \u001B[38;5;66;03m# self.scoring the return type is only known after calling\u001B[39;00m\n\u001B[1;32m    878\u001B[0m first_test_score \u001B[38;5;241m=\u001B[39m all_out[\u001B[38;5;241m0\u001B[39m][\u001B[38;5;124m\"\u001B[39m\u001B[38;5;124mtest_scores\u001B[39m\u001B[38;5;124m\"\u001B[39m]\n",
      "File \u001B[0;32m~/anaconda3/lib/python3.11/site-packages/sklearn/model_selection/_search.py:1388\u001B[0m, in \u001B[0;36mGridSearchCV._run_search\u001B[0;34m(self, evaluate_candidates)\u001B[0m\n\u001B[1;32m   1386\u001B[0m \u001B[38;5;28;01mdef\u001B[39;00m \u001B[38;5;21m_run_search\u001B[39m(\u001B[38;5;28mself\u001B[39m, evaluate_candidates):\n\u001B[1;32m   1387\u001B[0m \u001B[38;5;250m    \u001B[39m\u001B[38;5;124;03m\"\"\"Search all candidates in param_grid\"\"\"\u001B[39;00m\n\u001B[0;32m-> 1388\u001B[0m     evaluate_candidates(ParameterGrid(\u001B[38;5;28mself\u001B[39m\u001B[38;5;241m.\u001B[39mparam_grid))\n",
      "File \u001B[0;32m~/anaconda3/lib/python3.11/site-packages/sklearn/model_selection/_search.py:821\u001B[0m, in \u001B[0;36mBaseSearchCV.fit.<locals>.evaluate_candidates\u001B[0;34m(candidate_params, cv, more_results)\u001B[0m\n\u001B[1;32m    813\u001B[0m \u001B[38;5;28;01mif\u001B[39;00m \u001B[38;5;28mself\u001B[39m\u001B[38;5;241m.\u001B[39mverbose \u001B[38;5;241m>\u001B[39m \u001B[38;5;241m0\u001B[39m:\n\u001B[1;32m    814\u001B[0m     \u001B[38;5;28mprint\u001B[39m(\n\u001B[1;32m    815\u001B[0m         \u001B[38;5;124m\"\u001B[39m\u001B[38;5;124mFitting \u001B[39m\u001B[38;5;132;01m{0}\u001B[39;00m\u001B[38;5;124m folds for each of \u001B[39m\u001B[38;5;132;01m{1}\u001B[39;00m\u001B[38;5;124m candidates,\u001B[39m\u001B[38;5;124m\"\u001B[39m\n\u001B[1;32m    816\u001B[0m         \u001B[38;5;124m\"\u001B[39m\u001B[38;5;124m totalling \u001B[39m\u001B[38;5;132;01m{2}\u001B[39;00m\u001B[38;5;124m fits\u001B[39m\u001B[38;5;124m\"\u001B[39m\u001B[38;5;241m.\u001B[39mformat(\n\u001B[1;32m    817\u001B[0m             n_splits, n_candidates, n_candidates \u001B[38;5;241m*\u001B[39m n_splits\n\u001B[1;32m    818\u001B[0m         )\n\u001B[1;32m    819\u001B[0m     )\n\u001B[0;32m--> 821\u001B[0m out \u001B[38;5;241m=\u001B[39m parallel(\n\u001B[1;32m    822\u001B[0m     delayed(_fit_and_score)(\n\u001B[1;32m    823\u001B[0m         clone(base_estimator),\n\u001B[1;32m    824\u001B[0m         X,\n\u001B[1;32m    825\u001B[0m         y,\n\u001B[1;32m    826\u001B[0m         train\u001B[38;5;241m=\u001B[39mtrain,\n\u001B[1;32m    827\u001B[0m         test\u001B[38;5;241m=\u001B[39mtest,\n\u001B[1;32m    828\u001B[0m         parameters\u001B[38;5;241m=\u001B[39mparameters,\n\u001B[1;32m    829\u001B[0m         split_progress\u001B[38;5;241m=\u001B[39m(split_idx, n_splits),\n\u001B[1;32m    830\u001B[0m         candidate_progress\u001B[38;5;241m=\u001B[39m(cand_idx, n_candidates),\n\u001B[1;32m    831\u001B[0m         \u001B[38;5;241m*\u001B[39m\u001B[38;5;241m*\u001B[39mfit_and_score_kwargs,\n\u001B[1;32m    832\u001B[0m     )\n\u001B[1;32m    833\u001B[0m     \u001B[38;5;28;01mfor\u001B[39;00m (cand_idx, parameters), (split_idx, (train, test)) \u001B[38;5;129;01min\u001B[39;00m product(\n\u001B[1;32m    834\u001B[0m         \u001B[38;5;28menumerate\u001B[39m(candidate_params), \u001B[38;5;28menumerate\u001B[39m(cv\u001B[38;5;241m.\u001B[39msplit(X, y, groups))\n\u001B[1;32m    835\u001B[0m     )\n\u001B[1;32m    836\u001B[0m )\n\u001B[1;32m    838\u001B[0m \u001B[38;5;28;01mif\u001B[39;00m \u001B[38;5;28mlen\u001B[39m(out) \u001B[38;5;241m<\u001B[39m \u001B[38;5;241m1\u001B[39m:\n\u001B[1;32m    839\u001B[0m     \u001B[38;5;28;01mraise\u001B[39;00m \u001B[38;5;167;01mValueError\u001B[39;00m(\n\u001B[1;32m    840\u001B[0m         \u001B[38;5;124m\"\u001B[39m\u001B[38;5;124mNo fits were performed. \u001B[39m\u001B[38;5;124m\"\u001B[39m\n\u001B[1;32m    841\u001B[0m         \u001B[38;5;124m\"\u001B[39m\u001B[38;5;124mWas the CV iterator empty? \u001B[39m\u001B[38;5;124m\"\u001B[39m\n\u001B[1;32m    842\u001B[0m         \u001B[38;5;124m\"\u001B[39m\u001B[38;5;124mWere there no candidates?\u001B[39m\u001B[38;5;124m\"\u001B[39m\n\u001B[1;32m    843\u001B[0m     )\n",
      "File \u001B[0;32m~/anaconda3/lib/python3.11/site-packages/sklearn/utils/parallel.py:63\u001B[0m, in \u001B[0;36mParallel.__call__\u001B[0;34m(self, iterable)\u001B[0m\n\u001B[1;32m     58\u001B[0m config \u001B[38;5;241m=\u001B[39m get_config()\n\u001B[1;32m     59\u001B[0m iterable_with_config \u001B[38;5;241m=\u001B[39m (\n\u001B[1;32m     60\u001B[0m     (_with_config(delayed_func, config), args, kwargs)\n\u001B[1;32m     61\u001B[0m     \u001B[38;5;28;01mfor\u001B[39;00m delayed_func, args, kwargs \u001B[38;5;129;01min\u001B[39;00m iterable\n\u001B[1;32m     62\u001B[0m )\n\u001B[0;32m---> 63\u001B[0m \u001B[38;5;28;01mreturn\u001B[39;00m \u001B[38;5;28msuper\u001B[39m()\u001B[38;5;241m.\u001B[39m\u001B[38;5;21m__call__\u001B[39m(iterable_with_config)\n",
      "File \u001B[0;32m~/anaconda3/lib/python3.11/site-packages/joblib/parallel.py:1098\u001B[0m, in \u001B[0;36mParallel.__call__\u001B[0;34m(self, iterable)\u001B[0m\n\u001B[1;32m   1095\u001B[0m     \u001B[38;5;28mself\u001B[39m\u001B[38;5;241m.\u001B[39m_iterating \u001B[38;5;241m=\u001B[39m \u001B[38;5;28;01mFalse\u001B[39;00m\n\u001B[1;32m   1097\u001B[0m \u001B[38;5;28;01mwith\u001B[39;00m \u001B[38;5;28mself\u001B[39m\u001B[38;5;241m.\u001B[39m_backend\u001B[38;5;241m.\u001B[39mretrieval_context():\n\u001B[0;32m-> 1098\u001B[0m     \u001B[38;5;28mself\u001B[39m\u001B[38;5;241m.\u001B[39mretrieve()\n\u001B[1;32m   1099\u001B[0m \u001B[38;5;66;03m# Make sure that we get a last message telling us we are done\u001B[39;00m\n\u001B[1;32m   1100\u001B[0m elapsed_time \u001B[38;5;241m=\u001B[39m time\u001B[38;5;241m.\u001B[39mtime() \u001B[38;5;241m-\u001B[39m \u001B[38;5;28mself\u001B[39m\u001B[38;5;241m.\u001B[39m_start_time\n",
      "File \u001B[0;32m~/anaconda3/lib/python3.11/site-packages/joblib/parallel.py:975\u001B[0m, in \u001B[0;36mParallel.retrieve\u001B[0;34m(self)\u001B[0m\n\u001B[1;32m    973\u001B[0m \u001B[38;5;28;01mtry\u001B[39;00m:\n\u001B[1;32m    974\u001B[0m     \u001B[38;5;28;01mif\u001B[39;00m \u001B[38;5;28mgetattr\u001B[39m(\u001B[38;5;28mself\u001B[39m\u001B[38;5;241m.\u001B[39m_backend, \u001B[38;5;124m'\u001B[39m\u001B[38;5;124msupports_timeout\u001B[39m\u001B[38;5;124m'\u001B[39m, \u001B[38;5;28;01mFalse\u001B[39;00m):\n\u001B[0;32m--> 975\u001B[0m         \u001B[38;5;28mself\u001B[39m\u001B[38;5;241m.\u001B[39m_output\u001B[38;5;241m.\u001B[39mextend(job\u001B[38;5;241m.\u001B[39mget(timeout\u001B[38;5;241m=\u001B[39m\u001B[38;5;28mself\u001B[39m\u001B[38;5;241m.\u001B[39mtimeout))\n\u001B[1;32m    976\u001B[0m     \u001B[38;5;28;01melse\u001B[39;00m:\n\u001B[1;32m    977\u001B[0m         \u001B[38;5;28mself\u001B[39m\u001B[38;5;241m.\u001B[39m_output\u001B[38;5;241m.\u001B[39mextend(job\u001B[38;5;241m.\u001B[39mget())\n",
      "File \u001B[0;32m~/anaconda3/lib/python3.11/site-packages/joblib/_parallel_backends.py:567\u001B[0m, in \u001B[0;36mLokyBackend.wrap_future_result\u001B[0;34m(future, timeout)\u001B[0m\n\u001B[1;32m    564\u001B[0m \u001B[38;5;250m\u001B[39m\u001B[38;5;124;03m\"\"\"Wrapper for Future.result to implement the same behaviour as\u001B[39;00m\n\u001B[1;32m    565\u001B[0m \u001B[38;5;124;03mAsyncResults.get from multiprocessing.\"\"\"\u001B[39;00m\n\u001B[1;32m    566\u001B[0m \u001B[38;5;28;01mtry\u001B[39;00m:\n\u001B[0;32m--> 567\u001B[0m     \u001B[38;5;28;01mreturn\u001B[39;00m future\u001B[38;5;241m.\u001B[39mresult(timeout\u001B[38;5;241m=\u001B[39mtimeout)\n\u001B[1;32m    568\u001B[0m \u001B[38;5;28;01mexcept\u001B[39;00m CfTimeoutError \u001B[38;5;28;01mas\u001B[39;00m e:\n\u001B[1;32m    569\u001B[0m     \u001B[38;5;28;01mraise\u001B[39;00m \u001B[38;5;167;01mTimeoutError\u001B[39;00m \u001B[38;5;28;01mfrom\u001B[39;00m \u001B[38;5;21;01me\u001B[39;00m\n",
      "File \u001B[0;32m~/anaconda3/lib/python3.11/concurrent/futures/_base.py:451\u001B[0m, in \u001B[0;36mFuture.result\u001B[0;34m(self, timeout)\u001B[0m\n\u001B[1;32m    448\u001B[0m \u001B[38;5;28;01melif\u001B[39;00m \u001B[38;5;28mself\u001B[39m\u001B[38;5;241m.\u001B[39m_state \u001B[38;5;241m==\u001B[39m FINISHED:\n\u001B[1;32m    449\u001B[0m     \u001B[38;5;28;01mreturn\u001B[39;00m \u001B[38;5;28mself\u001B[39m\u001B[38;5;241m.\u001B[39m__get_result()\n\u001B[0;32m--> 451\u001B[0m \u001B[38;5;28mself\u001B[39m\u001B[38;5;241m.\u001B[39m_condition\u001B[38;5;241m.\u001B[39mwait(timeout)\n\u001B[1;32m    453\u001B[0m \u001B[38;5;28;01mif\u001B[39;00m \u001B[38;5;28mself\u001B[39m\u001B[38;5;241m.\u001B[39m_state \u001B[38;5;129;01min\u001B[39;00m [CANCELLED, CANCELLED_AND_NOTIFIED]:\n\u001B[1;32m    454\u001B[0m     \u001B[38;5;28;01mraise\u001B[39;00m CancelledError()\n",
      "File \u001B[0;32m~/anaconda3/lib/python3.11/threading.py:320\u001B[0m, in \u001B[0;36mCondition.wait\u001B[0;34m(self, timeout)\u001B[0m\n\u001B[1;32m    318\u001B[0m \u001B[38;5;28;01mtry\u001B[39;00m:    \u001B[38;5;66;03m# restore state no matter what (e.g., KeyboardInterrupt)\u001B[39;00m\n\u001B[1;32m    319\u001B[0m     \u001B[38;5;28;01mif\u001B[39;00m timeout \u001B[38;5;129;01mis\u001B[39;00m \u001B[38;5;28;01mNone\u001B[39;00m:\n\u001B[0;32m--> 320\u001B[0m         waiter\u001B[38;5;241m.\u001B[39macquire()\n\u001B[1;32m    321\u001B[0m         gotit \u001B[38;5;241m=\u001B[39m \u001B[38;5;28;01mTrue\u001B[39;00m\n\u001B[1;32m    322\u001B[0m     \u001B[38;5;28;01melse\u001B[39;00m:\n",
      "\u001B[0;31mKeyboardInterrupt\u001B[0m: "
     ]
    }
   ],
   "source": [
    "lasso = linear_model.Lasso()\n",
    "param_grid = [{'alpha': [0.01, 0.1]}]\n",
    "grid_cv = GridSearchCV(estimator=lasso, cv=cv, param_grid=param_grid, n_jobs = -1)\n",
    "grid_cv.fit(X_resampled, y_resampled)\n"
   ]
  },
  {
   "cell_type": "code",
   "execution_count": null,
   "id": "9c422268",
   "metadata": {},
   "outputs": [],
   "source": [
    "print(grid_cv.best_estimator_)"
   ]
  },
  {
   "cell_type": "markdown",
   "id": "973407f6",
   "metadata": {},
   "source": [
    "### OLS vs Lasso vs Ridge regression"
   ]
  },
  {
   "cell_type": "code",
   "execution_count": 13,
   "id": "6354c645",
   "metadata": {},
   "outputs": [
    {
     "name": "stdout",
     "output_type": "stream",
     "text": [
      "OLS Model Recall :  0.9263700805406642\n",
      "OLS Model Precision :  0.7393415863166752\n",
      "--\n",
      "LASSO score : \n",
      "LASSO Model Recall :  0.9210091719809954\n",
      "LASSO Model Precision :  0.765648266466718\n",
      "--\n",
      "Ridge Model Recall :  0.9263700805406642\n",
      "Ridge Model Precision :  0.7393415863166752\n"
     ]
    }
   ],
   "source": [
    "# OLS \n",
    "ols = linear_model.LinearRegression()\n",
    "ols.fit(X_resampled, y_resampled)  \n",
    "y_pred = ols.predict(X_OOS_test)  \n",
    "# turn the continous value into classification via simple >= 0.5 is 1 \n",
    "y_pred_classification = [1 if x >= 0.5 else 0 for x in y_pred]\n",
    "print(\"OLS Model Recall : \" , recall_score(y_OOS_test, y_pred_classification))\n",
    "print(\"OLS Model Precision : \", precision_score(y_OOS_test,y_pred_classification))\n",
    "print(\"--\")\n",
    "\n",
    "# LASSO \n",
    "lasso = linear_model.Lasso(alpha=1, max_iter=2000)\n",
    "lasso.fit(X_resampled, y_resampled)\n",
    "y_pred = lasso.predict(X_OOS_test)\n",
    "# turn the continous value into classification via simple >= 0.5 is 1 \n",
    "y_pred_classification = [1 if x >= 0.5 else 0 for x in y_pred]\n",
    "print(\"LASSO score : \" , )\n",
    "print(\"LASSO Model Recall : \" , recall_score(y_OOS_test, y_pred_classification))\n",
    "print(\"LASSO Model Precision : \", precision_score(y_OOS_test,y_pred_classification))\n",
    "print(\"--\")\n",
    "\n",
    "# RIDGE\n",
    "ridge = linear_model.Ridge(alpha=1)\n",
    "ridge.fit(X_resampled, y_resampled)\n",
    "y_pred = ridge.predict(X_OOS_test)\n",
    "# turn the continous value into classification via simple >= 0.5 is 1 \n",
    "y_pred_classification = [1 if x >= 0.5 else 0 for x in y_pred]\n",
    "print(\"Ridge Model Recall : \" , recall_score(y_OOS_test, y_pred_classification))\n",
    "print(\"Ridge Model Precision : \", precision_score(y_OOS_test,y_pred_classification))"
   ]
  },
  {
   "cell_type": "markdown",
   "id": "47996542",
   "metadata": {},
   "source": [
    "\n",
    "## Random Forest "
   ]
  },
  {
   "cell_type": "code",
   "execution_count": 144,
   "id": "289dfa79",
   "metadata": {},
   "outputs": [
    {
     "data": {
      "text/html": [
       "<style>#sk-container-id-5 {color: black;background-color: white;}#sk-container-id-5 pre{padding: 0;}#sk-container-id-5 div.sk-toggleable {background-color: white;}#sk-container-id-5 label.sk-toggleable__label {cursor: pointer;display: block;width: 100%;margin-bottom: 0;padding: 0.3em;box-sizing: border-box;text-align: center;}#sk-container-id-5 label.sk-toggleable__label-arrow:before {content: \"▸\";float: left;margin-right: 0.25em;color: #696969;}#sk-container-id-5 label.sk-toggleable__label-arrow:hover:before {color: black;}#sk-container-id-5 div.sk-estimator:hover label.sk-toggleable__label-arrow:before {color: black;}#sk-container-id-5 div.sk-toggleable__content {max-height: 0;max-width: 0;overflow: hidden;text-align: left;background-color: #f0f8ff;}#sk-container-id-5 div.sk-toggleable__content pre {margin: 0.2em;color: black;border-radius: 0.25em;background-color: #f0f8ff;}#sk-container-id-5 input.sk-toggleable__control:checked~div.sk-toggleable__content {max-height: 200px;max-width: 100%;overflow: auto;}#sk-container-id-5 input.sk-toggleable__control:checked~label.sk-toggleable__label-arrow:before {content: \"▾\";}#sk-container-id-5 div.sk-estimator input.sk-toggleable__control:checked~label.sk-toggleable__label {background-color: #d4ebff;}#sk-container-id-5 div.sk-label input.sk-toggleable__control:checked~label.sk-toggleable__label {background-color: #d4ebff;}#sk-container-id-5 input.sk-hidden--visually {border: 0;clip: rect(1px 1px 1px 1px);clip: rect(1px, 1px, 1px, 1px);height: 1px;margin: -1px;overflow: hidden;padding: 0;position: absolute;width: 1px;}#sk-container-id-5 div.sk-estimator {font-family: monospace;background-color: #f0f8ff;border: 1px dotted black;border-radius: 0.25em;box-sizing: border-box;margin-bottom: 0.5em;}#sk-container-id-5 div.sk-estimator:hover {background-color: #d4ebff;}#sk-container-id-5 div.sk-parallel-item::after {content: \"\";width: 100%;border-bottom: 1px solid gray;flex-grow: 1;}#sk-container-id-5 div.sk-label:hover label.sk-toggleable__label {background-color: #d4ebff;}#sk-container-id-5 div.sk-serial::before {content: \"\";position: absolute;border-left: 1px solid gray;box-sizing: border-box;top: 0;bottom: 0;left: 50%;z-index: 0;}#sk-container-id-5 div.sk-serial {display: flex;flex-direction: column;align-items: center;background-color: white;padding-right: 0.2em;padding-left: 0.2em;position: relative;}#sk-container-id-5 div.sk-item {position: relative;z-index: 1;}#sk-container-id-5 div.sk-parallel {display: flex;align-items: stretch;justify-content: center;background-color: white;position: relative;}#sk-container-id-5 div.sk-item::before, #sk-container-id-5 div.sk-parallel-item::before {content: \"\";position: absolute;border-left: 1px solid gray;box-sizing: border-box;top: 0;bottom: 0;left: 50%;z-index: -1;}#sk-container-id-5 div.sk-parallel-item {display: flex;flex-direction: column;z-index: 1;position: relative;background-color: white;}#sk-container-id-5 div.sk-parallel-item:first-child::after {align-self: flex-end;width: 50%;}#sk-container-id-5 div.sk-parallel-item:last-child::after {align-self: flex-start;width: 50%;}#sk-container-id-5 div.sk-parallel-item:only-child::after {width: 0;}#sk-container-id-5 div.sk-dashed-wrapped {border: 1px dashed gray;margin: 0 0.4em 0.5em 0.4em;box-sizing: border-box;padding-bottom: 0.4em;background-color: white;}#sk-container-id-5 div.sk-label label {font-family: monospace;font-weight: bold;display: inline-block;line-height: 1.2em;}#sk-container-id-5 div.sk-label-container {text-align: center;}#sk-container-id-5 div.sk-container {/* jupyter's `normalize.less` sets `[hidden] { display: none; }` but bootstrap.min.css set `[hidden] { display: none !important; }` so we also need the `!important` here to be able to override the default hidden behavior on the sphinx rendered scikit-learn.org. See: https://github.com/scikit-learn/scikit-learn/issues/21755 */display: inline-block !important;position: relative;}#sk-container-id-5 div.sk-text-repr-fallback {display: none;}</style><div id=\"sk-container-id-5\" class=\"sk-top-container\"><div class=\"sk-text-repr-fallback\"><pre>RandomForestClassifier(max_depth=2, n_estimators=50, random_state=0)</pre><b>In a Jupyter environment, please rerun this cell to show the HTML representation or trust the notebook. <br />On GitHub, the HTML representation is unable to render, please try loading this page with nbviewer.org.</b></div><div class=\"sk-container\" hidden><div class=\"sk-item\"><div class=\"sk-estimator sk-toggleable\"><input class=\"sk-toggleable__control sk-hidden--visually\" id=\"sk-estimator-id-5\" type=\"checkbox\" checked><label for=\"sk-estimator-id-5\" class=\"sk-toggleable__label sk-toggleable__label-arrow\">RandomForestClassifier</label><div class=\"sk-toggleable__content\"><pre>RandomForestClassifier(max_depth=2, n_estimators=50, random_state=0)</pre></div></div></div></div></div>"
      ],
      "text/plain": [
       "RandomForestClassifier(max_depth=2, n_estimators=50, random_state=0)"
      ]
     },
     "execution_count": 144,
     "metadata": {},
     "output_type": "execute_result"
    }
   ],
   "source": [
    "\n",
    "random_forest = RandomForestClassifier(n_estimators = 50, max_depth=2, random_state=0)\n",
    "random_forest.fit(X_resampled, y_resampled)\n"
   ]
  },
  {
   "cell_type": "code",
   "execution_count": 145,
   "id": "b720bb1b",
   "metadata": {},
   "outputs": [
    {
     "name": "stdout",
     "output_type": "stream",
     "text": [
      "RND Forest Model Recall :  0.9351101399933941\n",
      "RND Forest Precision :  0.5590236641453264\n"
     ]
    }
   ],
   "source": [
    "y_pred = random_forest.predict(X_OOS_test)\n",
    "print(\"RND Forest Model Recall : \" , recall_score(y_OOS_test, y_pred))\n",
    "print(\"RND Forest Precision : \", precision_score(y_OOS_test,y_pred))"
   ]
  },
  {
   "cell_type": "markdown",
   "id": "dc4b90d5",
   "metadata": {},
   "source": [
    "## Random forest with LASSO selected variables "
   ]
  },
  {
   "cell_type": "code",
   "execution_count": 148,
   "id": "0655c8ee",
   "metadata": {},
   "outputs": [
    {
     "name": "stdout",
     "output_type": "stream",
     "text": [
      "Lasso Coefficients:\n",
      "loan_amnt: 1.8418480746059375e-05\n",
      "funded_amnt: 2.9019797925382364e-06\n",
      "annual_inc: -1.3709759550735986e-08\n",
      "revol_bal: -1.7393438914558872e-07\n",
      "out_prncp: -2.850765645641118e-05\n",
      "total_pymnt: 5.3393656354463745e-06\n",
      "total_rec_prncp: -3.463307740446701e-05\n",
      "recoveries: 7.0018388011694515e-06\n",
      "last_pymnt_amnt: -8.652162154755563e-06\n",
      "last_fico_range_high: -0.0025560709826554567\n",
      "annual_inc_joint: 1.1166230875702334e-07\n",
      "tot_cur_bal: -1.077267273772772e-07\n",
      "total_bal_il: -3.9327418478560655e-07\n",
      "max_bal_bc: -1.4982387187530531e-06\n",
      "total_rev_hi_lim: 1.1005262929425867e-07\n",
      "avg_cur_bal: -8.910101544429647e-08\n",
      "bc_open_to_buy: 7.965068057032995e-07\n",
      "tot_hi_cred_lim: 1.0138721654544001e-07\n",
      "total_bal_ex_mort: 1.818104479147108e-07\n",
      "total_bc_limit: -1.6730792810998994e-07\n",
      "total_il_high_credit_limit: -2.7529721533961274e-08\n",
      "hardship_amount: 0.00033062964266429947\n",
      "hardship_payoff_balance_amount: 2.9345671097771297e-06\n"
     ]
    }
   ],
   "source": [
    "\n",
    "# Pick the coefficients that is not zero from LASSO \n",
    "coefficients = dict(zip(X_train.columns, lasso.coef_))\n",
    "print(\"Lasso Coefficients:\")\n",
    "lasso_picked_var = []\n",
    "for feature, coef in coefficients.items():\n",
    "    if coef != 0:\n",
    "        lasso_picked_var.append(feature)\n",
    "        print(f\"{feature}: {coef}\")"
   ]
  },
  {
   "cell_type": "code",
   "execution_count": 149,
   "id": "790726fd",
   "metadata": {},
   "outputs": [
    {
     "data": {
      "text/html": [
       "<style>#sk-container-id-6 {color: black;background-color: white;}#sk-container-id-6 pre{padding: 0;}#sk-container-id-6 div.sk-toggleable {background-color: white;}#sk-container-id-6 label.sk-toggleable__label {cursor: pointer;display: block;width: 100%;margin-bottom: 0;padding: 0.3em;box-sizing: border-box;text-align: center;}#sk-container-id-6 label.sk-toggleable__label-arrow:before {content: \"▸\";float: left;margin-right: 0.25em;color: #696969;}#sk-container-id-6 label.sk-toggleable__label-arrow:hover:before {color: black;}#sk-container-id-6 div.sk-estimator:hover label.sk-toggleable__label-arrow:before {color: black;}#sk-container-id-6 div.sk-toggleable__content {max-height: 0;max-width: 0;overflow: hidden;text-align: left;background-color: #f0f8ff;}#sk-container-id-6 div.sk-toggleable__content pre {margin: 0.2em;color: black;border-radius: 0.25em;background-color: #f0f8ff;}#sk-container-id-6 input.sk-toggleable__control:checked~div.sk-toggleable__content {max-height: 200px;max-width: 100%;overflow: auto;}#sk-container-id-6 input.sk-toggleable__control:checked~label.sk-toggleable__label-arrow:before {content: \"▾\";}#sk-container-id-6 div.sk-estimator input.sk-toggleable__control:checked~label.sk-toggleable__label {background-color: #d4ebff;}#sk-container-id-6 div.sk-label input.sk-toggleable__control:checked~label.sk-toggleable__label {background-color: #d4ebff;}#sk-container-id-6 input.sk-hidden--visually {border: 0;clip: rect(1px 1px 1px 1px);clip: rect(1px, 1px, 1px, 1px);height: 1px;margin: -1px;overflow: hidden;padding: 0;position: absolute;width: 1px;}#sk-container-id-6 div.sk-estimator {font-family: monospace;background-color: #f0f8ff;border: 1px dotted black;border-radius: 0.25em;box-sizing: border-box;margin-bottom: 0.5em;}#sk-container-id-6 div.sk-estimator:hover {background-color: #d4ebff;}#sk-container-id-6 div.sk-parallel-item::after {content: \"\";width: 100%;border-bottom: 1px solid gray;flex-grow: 1;}#sk-container-id-6 div.sk-label:hover label.sk-toggleable__label {background-color: #d4ebff;}#sk-container-id-6 div.sk-serial::before {content: \"\";position: absolute;border-left: 1px solid gray;box-sizing: border-box;top: 0;bottom: 0;left: 50%;z-index: 0;}#sk-container-id-6 div.sk-serial {display: flex;flex-direction: column;align-items: center;background-color: white;padding-right: 0.2em;padding-left: 0.2em;position: relative;}#sk-container-id-6 div.sk-item {position: relative;z-index: 1;}#sk-container-id-6 div.sk-parallel {display: flex;align-items: stretch;justify-content: center;background-color: white;position: relative;}#sk-container-id-6 div.sk-item::before, #sk-container-id-6 div.sk-parallel-item::before {content: \"\";position: absolute;border-left: 1px solid gray;box-sizing: border-box;top: 0;bottom: 0;left: 50%;z-index: -1;}#sk-container-id-6 div.sk-parallel-item {display: flex;flex-direction: column;z-index: 1;position: relative;background-color: white;}#sk-container-id-6 div.sk-parallel-item:first-child::after {align-self: flex-end;width: 50%;}#sk-container-id-6 div.sk-parallel-item:last-child::after {align-self: flex-start;width: 50%;}#sk-container-id-6 div.sk-parallel-item:only-child::after {width: 0;}#sk-container-id-6 div.sk-dashed-wrapped {border: 1px dashed gray;margin: 0 0.4em 0.5em 0.4em;box-sizing: border-box;padding-bottom: 0.4em;background-color: white;}#sk-container-id-6 div.sk-label label {font-family: monospace;font-weight: bold;display: inline-block;line-height: 1.2em;}#sk-container-id-6 div.sk-label-container {text-align: center;}#sk-container-id-6 div.sk-container {/* jupyter's `normalize.less` sets `[hidden] { display: none; }` but bootstrap.min.css set `[hidden] { display: none !important; }` so we also need the `!important` here to be able to override the default hidden behavior on the sphinx rendered scikit-learn.org. See: https://github.com/scikit-learn/scikit-learn/issues/21755 */display: inline-block !important;position: relative;}#sk-container-id-6 div.sk-text-repr-fallback {display: none;}</style><div id=\"sk-container-id-6\" class=\"sk-top-container\"><div class=\"sk-text-repr-fallback\"><pre>RandomForestClassifier(max_depth=2)</pre><b>In a Jupyter environment, please rerun this cell to show the HTML representation or trust the notebook. <br />On GitHub, the HTML representation is unable to render, please try loading this page with nbviewer.org.</b></div><div class=\"sk-container\" hidden><div class=\"sk-item\"><div class=\"sk-estimator sk-toggleable\"><input class=\"sk-toggleable__control sk-hidden--visually\" id=\"sk-estimator-id-6\" type=\"checkbox\" checked><label for=\"sk-estimator-id-6\" class=\"sk-toggleable__label sk-toggleable__label-arrow\">RandomForestClassifier</label><div class=\"sk-toggleable__content\"><pre>RandomForestClassifier(max_depth=2)</pre></div></div></div></div></div>"
      ],
      "text/plain": [
       "RandomForestClassifier(max_depth=2)"
      ]
     },
     "execution_count": 149,
     "metadata": {},
     "output_type": "execute_result"
    }
   ],
   "source": [
    "# Random forest + LASSO \n",
    "X_train_rf_lasso = X_resampled[lasso_picked_var]\n",
    "rf_lasso = RandomForestClassifier(max_depth=2)\n",
    "rf_lasso.fit(X_train_rf_lasso, y_resampled)"
   ]
  },
  {
   "cell_type": "code",
   "execution_count": 151,
   "id": "465e08b3",
   "metadata": {},
   "outputs": [
    {
     "name": "stdout",
     "output_type": "stream",
     "text": [
      "RND Forest with LASSO Model Recall :  0.9183414212759471\n",
      "RND Forest with LASSO Precision :  0.7333502409332995\n"
     ]
    }
   ],
   "source": [
    "X_test_rf_lasso_OOS = X_OOS_test[lasso_picked_var]\n",
    "y_pred = rf_lasso.predict(X_test_rf_lasso_OOS)\n",
    "print(\"RND Forest with LASSO Model Recall : \" , recall_score(y_OOS_test, y_pred))\n",
    "print(\"RND Forest with LASSO Precision : \", precision_score(y_OOS_test,y_pred))"
   ]
  },
  {
   "cell_type": "markdown",
   "id": "e1942d64",
   "metadata": {},
   "source": [
    "## Using Param Grid to search for best value with K-Fold Cross Validation "
   ]
  },
  {
   "cell_type": "code",
   "execution_count": 128,
   "id": "6c434e4b",
   "metadata": {},
   "outputs": [
    {
     "data": {
      "text/html": [
       "<style>#sk-container-id-14 {color: black;background-color: white;}#sk-container-id-14 pre{padding: 0;}#sk-container-id-14 div.sk-toggleable {background-color: white;}#sk-container-id-14 label.sk-toggleable__label {cursor: pointer;display: block;width: 100%;margin-bottom: 0;padding: 0.3em;box-sizing: border-box;text-align: center;}#sk-container-id-14 label.sk-toggleable__label-arrow:before {content: \"▸\";float: left;margin-right: 0.25em;color: #696969;}#sk-container-id-14 label.sk-toggleable__label-arrow:hover:before {color: black;}#sk-container-id-14 div.sk-estimator:hover label.sk-toggleable__label-arrow:before {color: black;}#sk-container-id-14 div.sk-toggleable__content {max-height: 0;max-width: 0;overflow: hidden;text-align: left;background-color: #f0f8ff;}#sk-container-id-14 div.sk-toggleable__content pre {margin: 0.2em;color: black;border-radius: 0.25em;background-color: #f0f8ff;}#sk-container-id-14 input.sk-toggleable__control:checked~div.sk-toggleable__content {max-height: 200px;max-width: 100%;overflow: auto;}#sk-container-id-14 input.sk-toggleable__control:checked~label.sk-toggleable__label-arrow:before {content: \"▾\";}#sk-container-id-14 div.sk-estimator input.sk-toggleable__control:checked~label.sk-toggleable__label {background-color: #d4ebff;}#sk-container-id-14 div.sk-label input.sk-toggleable__control:checked~label.sk-toggleable__label {background-color: #d4ebff;}#sk-container-id-14 input.sk-hidden--visually {border: 0;clip: rect(1px 1px 1px 1px);clip: rect(1px, 1px, 1px, 1px);height: 1px;margin: -1px;overflow: hidden;padding: 0;position: absolute;width: 1px;}#sk-container-id-14 div.sk-estimator {font-family: monospace;background-color: #f0f8ff;border: 1px dotted black;border-radius: 0.25em;box-sizing: border-box;margin-bottom: 0.5em;}#sk-container-id-14 div.sk-estimator:hover {background-color: #d4ebff;}#sk-container-id-14 div.sk-parallel-item::after {content: \"\";width: 100%;border-bottom: 1px solid gray;flex-grow: 1;}#sk-container-id-14 div.sk-label:hover label.sk-toggleable__label {background-color: #d4ebff;}#sk-container-id-14 div.sk-serial::before {content: \"\";position: absolute;border-left: 1px solid gray;box-sizing: border-box;top: 0;bottom: 0;left: 50%;z-index: 0;}#sk-container-id-14 div.sk-serial {display: flex;flex-direction: column;align-items: center;background-color: white;padding-right: 0.2em;padding-left: 0.2em;position: relative;}#sk-container-id-14 div.sk-item {position: relative;z-index: 1;}#sk-container-id-14 div.sk-parallel {display: flex;align-items: stretch;justify-content: center;background-color: white;position: relative;}#sk-container-id-14 div.sk-item::before, #sk-container-id-14 div.sk-parallel-item::before {content: \"\";position: absolute;border-left: 1px solid gray;box-sizing: border-box;top: 0;bottom: 0;left: 50%;z-index: -1;}#sk-container-id-14 div.sk-parallel-item {display: flex;flex-direction: column;z-index: 1;position: relative;background-color: white;}#sk-container-id-14 div.sk-parallel-item:first-child::after {align-self: flex-end;width: 50%;}#sk-container-id-14 div.sk-parallel-item:last-child::after {align-self: flex-start;width: 50%;}#sk-container-id-14 div.sk-parallel-item:only-child::after {width: 0;}#sk-container-id-14 div.sk-dashed-wrapped {border: 1px dashed gray;margin: 0 0.4em 0.5em 0.4em;box-sizing: border-box;padding-bottom: 0.4em;background-color: white;}#sk-container-id-14 div.sk-label label {font-family: monospace;font-weight: bold;display: inline-block;line-height: 1.2em;}#sk-container-id-14 div.sk-label-container {text-align: center;}#sk-container-id-14 div.sk-container {/* jupyter's `normalize.less` sets `[hidden] { display: none; }` but bootstrap.min.css set `[hidden] { display: none !important; }` so we also need the `!important` here to be able to override the default hidden behavior on the sphinx rendered scikit-learn.org. See: https://github.com/scikit-learn/scikit-learn/issues/21755 */display: inline-block !important;position: relative;}#sk-container-id-14 div.sk-text-repr-fallback {display: none;}</style><div id=\"sk-container-id-14\" class=\"sk-top-container\"><div class=\"sk-text-repr-fallback\"><pre>GridSearchCV(cv=KFold(n_splits=5, random_state=809, shuffle=True),\n",
       "             estimator=RandomForestClassifier(), n_jobs=3,\n",
       "             param_grid=[{&#x27;max_depth&#x27;: [10, 20, 30],\n",
       "                          &#x27;n_estimators&#x27;: [200, 225, 250]}])</pre><b>In a Jupyter environment, please rerun this cell to show the HTML representation or trust the notebook. <br />On GitHub, the HTML representation is unable to render, please try loading this page with nbviewer.org.</b></div><div class=\"sk-container\" hidden><div class=\"sk-item sk-dashed-wrapped\"><div class=\"sk-label-container\"><div class=\"sk-label sk-toggleable\"><input class=\"sk-toggleable__control sk-hidden--visually\" id=\"sk-estimator-id-20\" type=\"checkbox\" ><label for=\"sk-estimator-id-20\" class=\"sk-toggleable__label sk-toggleable__label-arrow\">GridSearchCV</label><div class=\"sk-toggleable__content\"><pre>GridSearchCV(cv=KFold(n_splits=5, random_state=809, shuffle=True),\n",
       "             estimator=RandomForestClassifier(), n_jobs=3,\n",
       "             param_grid=[{&#x27;max_depth&#x27;: [10, 20, 30],\n",
       "                          &#x27;n_estimators&#x27;: [200, 225, 250]}])</pre></div></div></div><div class=\"sk-parallel\"><div class=\"sk-parallel-item\"><div class=\"sk-item\"><div class=\"sk-label-container\"><div class=\"sk-label sk-toggleable\"><input class=\"sk-toggleable__control sk-hidden--visually\" id=\"sk-estimator-id-21\" type=\"checkbox\" ><label for=\"sk-estimator-id-21\" class=\"sk-toggleable__label sk-toggleable__label-arrow\">estimator: RandomForestClassifier</label><div class=\"sk-toggleable__content\"><pre>RandomForestClassifier()</pre></div></div></div><div class=\"sk-serial\"><div class=\"sk-item\"><div class=\"sk-estimator sk-toggleable\"><input class=\"sk-toggleable__control sk-hidden--visually\" id=\"sk-estimator-id-22\" type=\"checkbox\" ><label for=\"sk-estimator-id-22\" class=\"sk-toggleable__label sk-toggleable__label-arrow\">RandomForestClassifier</label><div class=\"sk-toggleable__content\"><pre>RandomForestClassifier()</pre></div></div></div></div></div></div></div></div></div></div>"
      ],
      "text/plain": [
       "GridSearchCV(cv=KFold(n_splits=5, random_state=809, shuffle=True),\n",
       "             estimator=RandomForestClassifier(), n_jobs=3,\n",
       "             param_grid=[{'max_depth': [10, 20, 30],\n",
       "                          'n_estimators': [200, 225, 250]}])"
      ]
     },
     "execution_count": 128,
     "metadata": {},
     "output_type": "execute_result"
    }
   ],
   "source": [
    "\n",
    "param_grid = [{'n_estimators': [200,225,250], 'max_depth' :[10,20,30]}]\n",
    "random_forest_cv = RandomForestClassifier()\n",
    "grid_cv = GridSearchCV(estimator=random_forest_cv, cv=cv, param_grid=param_grid, n_jobs = 3)\n",
    "grid_cv.fit(X_train_rf_lasso, y_resampled)"
   ]
  },
  {
   "cell_type": "code",
   "execution_count": 129,
   "id": "da84bd6d",
   "metadata": {},
   "outputs": [
    {
     "name": "stdout",
     "output_type": "stream",
     "text": [
      "RandomForestClassifier(max_depth=30, n_estimators=250)\n"
     ]
    }
   ],
   "source": [
    "print(grid_cv.best_estimator_)\n"
   ]
  }
 ],
 "metadata": {
  "kernelspec": {
   "display_name": "Python 3 (ipykernel)",
   "language": "python",
   "name": "python3"
  },
  "language_info": {
   "codemirror_mode": {
    "name": "ipython",
    "version": 3
   },
   "file_extension": ".py",
   "mimetype": "text/x-python",
   "name": "python",
   "nbconvert_exporter": "python",
   "pygments_lexer": "ipython3",
   "version": "3.11.4"
  }
 },
 "nbformat": 4,
 "nbformat_minor": 5
}
