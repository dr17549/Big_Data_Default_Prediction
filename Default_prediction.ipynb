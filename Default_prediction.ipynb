{
 "cells": [
  {
   "cell_type": "code",
   "execution_count": 32,
   "id": "0e0dc808",
   "metadata": {
    "scrolled": true
   },
   "outputs": [],
   "source": [
    "import pandas as pd\n",
    "import numpy as np\n",
    "import matplotlib.pyplot as plt\n",
    "import seaborn as sns\n",
    "import plotly.express as px\n",
    "from sklearn.model_selection import train_test_split\n",
    "\n",
    "from sklearn.datasets import make_classification\n",
    "from sklearn.model_selection import KFold\n",
    "from sklearn.model_selection import cross_val_score\n",
    "from sklearn import linear_model\n",
    "from sklearn.linear_model import LogisticRegression, LinearRegression\n",
    "from sklearn.metrics import recall_score, precision_score, f1_score\n",
    "from sklearn.neighbors import KNeighborsRegressor\n",
    "from sklearn.ensemble import RandomForestClassifier\n",
    "from sklearn.datasets import make_classification\n",
    "from sklearn.model_selection import GridSearchCV, train_test_split\n",
    "from imblearn.over_sampling import SMOTE\n",
    "import category_encoders as ce\n"
   ]
  },
  {
   "cell_type": "markdown",
   "id": "97e94d7a",
   "metadata": {},
   "source": [
    "## Pre-Processing \n",
    "- Read the feather file into a dataframe \n",
    "- Drop some columns that do we do not want as the independent variables (Xs)"
   ]
  },
  {
   "cell_type": "code",
   "execution_count": 62,
   "id": "2915229e",
   "metadata": {},
   "outputs": [],
   "source": [
    "# df = pd.read_csv('lending_club_clean_sample.csv')\n",
    "# df = pd.read_feather('lending_club_smaller_sample.feather')\n",
    "df = pd.read_feather('lending_club_clean.feather')"
   ]
  },
  {
   "cell_type": "markdown",
   "id": "1b09e1de",
   "metadata": {},
   "source": [
    "See which values we can classify as a default or cannot repay the loan "
   ]
  },
  {
   "cell_type": "code",
   "execution_count": 63,
   "id": "76308a3c",
   "metadata": {},
   "outputs": [
    {
     "name": "stdout",
     "output_type": "stream",
     "text": [
      "loan_status                                        \n",
      "Fully Paid                                             1497783\n",
      "Current                                                1031016\n",
      "Charged Off                                             362548\n",
      "Late (31-120 days)                                       16154\n",
      "In Grace Period                                          10028\n",
      "Late (16-30 days)                                         2719\n",
      "Issued                                                    2062\n",
      "Does not meet the credit policy. Status:Fully Paid        1988\n",
      "Does not meet the credit policy. Status:Charged Off        761\n",
      "Default                                                    433\n",
      "dtype: int64\n"
     ]
    }
   ],
   "source": [
    "print(df[['loan_status']].value_counts())"
   ]
  },
  {
   "cell_type": "code",
   "execution_count": 64,
   "id": "1ca6360f",
   "metadata": {},
   "outputs": [],
   "source": [
    "# Convert description into a default or not default prediction \n",
    "default_description = [\"Charged Off\", \"Default\", \"Does not meet the credit policy. Status:Charged Off\", \"In Grace Period\",\n",
    "            \"Late (16-30 days)\", \"Late (31-120 days)\"]\n",
    "df['default'] = df['loan_status'].apply(lambda status: 1 if status in default_description else 0).astype(int)"
   ]
  },
  {
   "cell_type": "code",
   "execution_count": 65,
   "id": "76ce64b0",
   "metadata": {},
   "outputs": [],
   "source": [
    "# X = df.drop(columns='default')\n",
    "y = df['default']\n",
    "\n",
    "\n",
    "df = df.drop(['id', 'default', 'revol_util' ,'sec_app_earliest_cr_line','loan_status', 'grade', 'sub_grade', \n",
    "              'emp_title', 'issue_d','url','title',\n",
    "              'zip_code','earliest_cr_line','last_pymnt_d',\n",
    "              'next_pymnt_d','last_credit_pull_d','hardship_type',\n",
    "              'hardship_start_date','hardship_end_date',\n",
    "              'payment_plan_start_date','hardship_loan_status','debt_settlement_flag'], axis=1)\n"
   ]
  },
  {
   "cell_type": "code",
   "execution_count": 66,
   "id": "66b3145c",
   "metadata": {},
   "outputs": [],
   "source": [
    "# Properly turn variables that are categorical into the correct data type\n",
    "df = pd.concat([df,pd.get_dummies(df[\"emp_length\"],drop_first=True)],axis=1)\n",
    "df = pd.concat([df,pd.get_dummies(df[\"addr_state\"],drop_first=True)],axis=1)\n",
    "df = pd.concat([df,pd.get_dummies(df[\"home_ownership\"],drop_first=True)],axis=1)\n"
   ]
  },
  {
   "cell_type": "code",
   "execution_count": 67,
   "id": "6a5039f0",
   "metadata": {},
   "outputs": [],
   "source": [
    "\n",
    "df = pd.concat([df,pd.get_dummies(df[\"verification_status\"],drop_first=True)],axis=1)\n",
    "df = pd.concat([df,pd.get_dummies(df[\"pymnt_plan\"],drop_first=True)],axis=1)\n",
    "df = pd.concat([df,pd.get_dummies(df[\"purpose\"],drop_first=True)],axis=1)\n",
    "df = pd.concat([df,pd.get_dummies(df[\"initial_list_status\"],drop_first=True)],axis=1)\n",
    "df = pd.concat([df,pd.get_dummies(df[\"application_type\"],drop_first=True)],axis=1)\n",
    "df = pd.concat([df,pd.get_dummies(df[\"hardship_flag\"],drop_first=True)],axis=1)\n",
    "df = pd.concat([df,pd.get_dummies(df[\"hardship_reason\"],drop_first=True)],axis=1)\n",
    "df = pd.concat([df,pd.get_dummies(df[\"verification_status_joint\"],drop_first=True)],axis=1)\n",
    "df = pd.concat([df,pd.get_dummies(df[\"hardship_status\"],drop_first=True)],axis=1)\n",
    "\n",
    "# drop the categorical columns as well \n",
    "df = df.drop(['emp_length', 'addr_state', 'home_ownership', \n",
    "              'verification_status', 'pymnt_plan','purpose','initial_list_status',\n",
    "              'application_type','hardship_flag',\n",
    "              'hardship_reason','verification_status_joint','hardship_status'], axis=1)\n"
   ]
  },
  {
   "cell_type": "code",
   "execution_count": 75,
   "id": "009fc525",
   "metadata": {},
   "outputs": [],
   "source": [
    "# Split train test dataset \n",
    "X_train, X_OOS_test, y_train, y_OOS_test = train_test_split(df, y, test_size=0.20, random_state=66)"
   ]
  },
  {
   "cell_type": "code",
   "execution_count": 76,
   "id": "a68b6c75",
   "metadata": {},
   "outputs": [
    {
     "name": "stderr",
     "output_type": "stream",
     "text": [
      "/Users/dhammatornriewcharoon/anaconda3/lib/python3.11/site-packages/sklearn/linear_model/_coordinate_descent.py:631: ConvergenceWarning: Objective did not converge. You might want to increase the number of iterations, check the scale of the features or consider increasing regularisation. Duality gap: 6.246e+03, tolerance: 2.718e+01\n",
      "  model = cd_fast.enet_coordinate_descent(\n"
     ]
    },
    {
     "data": {
      "text/html": [
       "<style>#sk-container-id-4 {color: black;background-color: white;}#sk-container-id-4 pre{padding: 0;}#sk-container-id-4 div.sk-toggleable {background-color: white;}#sk-container-id-4 label.sk-toggleable__label {cursor: pointer;display: block;width: 100%;margin-bottom: 0;padding: 0.3em;box-sizing: border-box;text-align: center;}#sk-container-id-4 label.sk-toggleable__label-arrow:before {content: \"▸\";float: left;margin-right: 0.25em;color: #696969;}#sk-container-id-4 label.sk-toggleable__label-arrow:hover:before {color: black;}#sk-container-id-4 div.sk-estimator:hover label.sk-toggleable__label-arrow:before {color: black;}#sk-container-id-4 div.sk-toggleable__content {max-height: 0;max-width: 0;overflow: hidden;text-align: left;background-color: #f0f8ff;}#sk-container-id-4 div.sk-toggleable__content pre {margin: 0.2em;color: black;border-radius: 0.25em;background-color: #f0f8ff;}#sk-container-id-4 input.sk-toggleable__control:checked~div.sk-toggleable__content {max-height: 200px;max-width: 100%;overflow: auto;}#sk-container-id-4 input.sk-toggleable__control:checked~label.sk-toggleable__label-arrow:before {content: \"▾\";}#sk-container-id-4 div.sk-estimator input.sk-toggleable__control:checked~label.sk-toggleable__label {background-color: #d4ebff;}#sk-container-id-4 div.sk-label input.sk-toggleable__control:checked~label.sk-toggleable__label {background-color: #d4ebff;}#sk-container-id-4 input.sk-hidden--visually {border: 0;clip: rect(1px 1px 1px 1px);clip: rect(1px, 1px, 1px, 1px);height: 1px;margin: -1px;overflow: hidden;padding: 0;position: absolute;width: 1px;}#sk-container-id-4 div.sk-estimator {font-family: monospace;background-color: #f0f8ff;border: 1px dotted black;border-radius: 0.25em;box-sizing: border-box;margin-bottom: 0.5em;}#sk-container-id-4 div.sk-estimator:hover {background-color: #d4ebff;}#sk-container-id-4 div.sk-parallel-item::after {content: \"\";width: 100%;border-bottom: 1px solid gray;flex-grow: 1;}#sk-container-id-4 div.sk-label:hover label.sk-toggleable__label {background-color: #d4ebff;}#sk-container-id-4 div.sk-serial::before {content: \"\";position: absolute;border-left: 1px solid gray;box-sizing: border-box;top: 0;bottom: 0;left: 50%;z-index: 0;}#sk-container-id-4 div.sk-serial {display: flex;flex-direction: column;align-items: center;background-color: white;padding-right: 0.2em;padding-left: 0.2em;position: relative;}#sk-container-id-4 div.sk-item {position: relative;z-index: 1;}#sk-container-id-4 div.sk-parallel {display: flex;align-items: stretch;justify-content: center;background-color: white;position: relative;}#sk-container-id-4 div.sk-item::before, #sk-container-id-4 div.sk-parallel-item::before {content: \"\";position: absolute;border-left: 1px solid gray;box-sizing: border-box;top: 0;bottom: 0;left: 50%;z-index: -1;}#sk-container-id-4 div.sk-parallel-item {display: flex;flex-direction: column;z-index: 1;position: relative;background-color: white;}#sk-container-id-4 div.sk-parallel-item:first-child::after {align-self: flex-end;width: 50%;}#sk-container-id-4 div.sk-parallel-item:last-child::after {align-self: flex-start;width: 50%;}#sk-container-id-4 div.sk-parallel-item:only-child::after {width: 0;}#sk-container-id-4 div.sk-dashed-wrapped {border: 1px dashed gray;margin: 0 0.4em 0.5em 0.4em;box-sizing: border-box;padding-bottom: 0.4em;background-color: white;}#sk-container-id-4 div.sk-label label {font-family: monospace;font-weight: bold;display: inline-block;line-height: 1.2em;}#sk-container-id-4 div.sk-label-container {text-align: center;}#sk-container-id-4 div.sk-container {/* jupyter's `normalize.less` sets `[hidden] { display: none; }` but bootstrap.min.css set `[hidden] { display: none !important; }` so we also need the `!important` here to be able to override the default hidden behavior on the sphinx rendered scikit-learn.org. See: https://github.com/scikit-learn/scikit-learn/issues/21755 */display: inline-block !important;position: relative;}#sk-container-id-4 div.sk-text-repr-fallback {display: none;}</style><div id=\"sk-container-id-4\" class=\"sk-top-container\"><div class=\"sk-text-repr-fallback\"><pre>Lasso(alpha=1)</pre><b>In a Jupyter environment, please rerun this cell to show the HTML representation or trust the notebook. <br />On GitHub, the HTML representation is unable to render, please try loading this page with nbviewer.org.</b></div><div class=\"sk-container\" hidden><div class=\"sk-item\"><div class=\"sk-estimator sk-toggleable\"><input class=\"sk-toggleable__control sk-hidden--visually\" id=\"sk-estimator-id-4\" type=\"checkbox\" checked><label for=\"sk-estimator-id-4\" class=\"sk-toggleable__label sk-toggleable__label-arrow\">Lasso</label><div class=\"sk-toggleable__content\"><pre>Lasso(alpha=1)</pre></div></div></div></div></div>"
      ],
      "text/plain": [
       "Lasso(alpha=1)"
      ]
     },
     "execution_count": 76,
     "metadata": {},
     "output_type": "execute_result"
    }
   ],
   "source": [
    "lasso = linear_model.Lasso(alpha=1)\n",
    "lasso.fit(X_train, y_train)"
   ]
  },
  {
   "cell_type": "code",
   "execution_count": 78,
   "id": "fdd2d972",
   "metadata": {},
   "outputs": [
    {
     "name": "stdout",
     "output_type": "stream",
     "text": [
      "Lasso Coefficients:\n",
      "loan_amnt: 3.215231192662825e-05\n",
      "funded_amnt: 1.1160011603015962e-05\n",
      "annual_inc: -1.898293847639652e-08\n",
      "revol_bal: -1.3455352569186869e-07\n",
      "out_prncp: -4.585172374295031e-05\n",
      "total_pymnt: -1.8772799799746e-05\n",
      "total_rec_prncp: -2.7344365070965145e-05\n",
      "total_rec_int: 2.0314780725234308e-05\n",
      "recoveries: 2.9901604379517438e-05\n",
      "last_pymnt_amnt: -2.2220259399386754e-06\n",
      "last_fico_range_high: -0.0007147247411385774\n",
      "last_fico_range_low: -0.0003584969296763416\n",
      "annual_inc_joint: 2.825307861618525e-08\n",
      "tot_coll_amt: -1.1181006617147113e-08\n",
      "tot_cur_bal: -4.4983602549408605e-08\n",
      "total_bal_il: -1.6930576857913345e-07\n",
      "max_bal_bc: -2.493930417500715e-07\n",
      "total_rev_hi_lim: 7.77068882140871e-08\n",
      "avg_cur_bal: 3.4168324582467854e-08\n",
      "bc_open_to_buy: 4.2050300713578345e-07\n",
      "tot_hi_cred_lim: 3.20341349690361e-08\n",
      "total_bal_ex_mort: 6.62878615070509e-08\n",
      "total_bc_limit: -3.765805148537659e-08\n",
      "total_il_high_credit_limit: 1.984897358503877e-12\n",
      "hardship_amount: 4.7275769945540806e-05\n",
      "hardship_payoff_balance_amount: 1.211698407535261e-06\n"
     ]
    }
   ],
   "source": [
    "# Print Lasso Coefficients that is not 0 \n",
    "coefficients = dict(zip(X_train.columns, lasso.coef_))\n",
    "print(\"Lasso Coefficients:\")\n",
    "lasso_picked_var = []\n",
    "for feature, coef in coefficients.items():\n",
    "    if coef != 0:\n",
    "        lasso_picked_var.append(feature)\n",
    "        print(f\"{feature}: {coef}\")"
   ]
  },
  {
   "cell_type": "code",
   "execution_count": 79,
   "id": "a615bb8f",
   "metadata": {},
   "outputs": [
    {
     "name": "stdout",
     "output_type": "stream",
     "text": [
      "         loan_amnt  funded_amnt  annual_inc  revol_bal     out_prncp  \\\n",
      "2273679       6000         6000     57000.0       5746      0.000000   \n",
      "323906       29775        29775    132400.0      48904  18171.859375   \n",
      "1292667      12000        12000       100.0       4824  10994.769531   \n",
      "546901       17000        17000     70000.0      17798   4956.120117   \n",
      "1000326      13500        13500     40000.0       8140   8557.540039   \n",
      "\n",
      "          total_pymnt  total_rec_prncp  total_rec_int  recoveries  \\\n",
      "2273679   6788.683105      6000.000000     788.679993         0.0   \n",
      "323906   29811.269531     11603.139648   18208.130859         0.0   \n",
      "1292667   2983.649902      1005.229980    1978.420044         0.0   \n",
      "546901   15679.269531     12043.879883    3577.629883         0.0   \n",
      "1000326   5820.779785      4942.459961     878.320007         0.0   \n",
      "\n",
      "         last_pymnt_amnt  ...  max_bal_bc  total_rev_hi_lim  avg_cur_bal  \\\n",
      "2273679      2743.520020  ...          -1             14200        12060   \n",
      "323906        896.780029  ...       20530             77900        35131   \n",
      "1292667       334.850006  ...        4815              6000         6231   \n",
      "546901        577.650024  ...        7207             27300         3790   \n",
      "1000326       413.519989  ...        6162             19700         1357   \n",
      "\n",
      "         bc_open_to_buy  tot_hi_cred_lim  total_bal_ex_mort  total_bc_limit  \\\n",
      "2273679            4779           118741               5746            8800   \n",
      "323906            10116           533637             120794           45000   \n",
      "1292667            1176            22561              18692            6000   \n",
      "546901             1426            45300              30319           18300   \n",
      "1000326            6802            19700               8140           14800   \n",
      "\n",
      "         total_il_high_credit_limit  hardship_amount  \\\n",
      "2273679                           0             -1.0   \n",
      "323906                        65476             -1.0   \n",
      "1292667                       16561             -1.0   \n",
      "546901                        18000             -1.0   \n",
      "1000326                           0             -1.0   \n",
      "\n",
      "         hardship_payoff_balance_amount  \n",
      "2273679                            -1.0  \n",
      "323906                             -1.0  \n",
      "1292667                            -1.0  \n",
      "546901                             -1.0  \n",
      "1000326                            -1.0  \n",
      "\n",
      "[5 rows x 26 columns]\n"
     ]
    }
   ],
   "source": [
    "# pick the X variables that LASSO tells us are significant\n",
    "X_train = X_train[lasso_picked_var]\n",
    "print(X_train.head())"
   ]
  },
  {
   "cell_type": "markdown",
   "id": "805cb854",
   "metadata": {},
   "source": [
    "## Oversampling \n",
    "Since we see that the data is highly imbalanced, we try to oversample the data set with SMOTE. "
   ]
  },
  {
   "cell_type": "code",
   "execution_count": 63,
   "id": "9d2d7d84",
   "metadata": {},
   "outputs": [],
   "source": [
    "from imblearn.over_sampling import SMOTE\n",
    "# solve error by downgrading to install scikit-learn==1.2.2 \n",
    "# ''' steps : \n",
    "# 1. install pip \n",
    "# 2. uninstall sci-kit \n",
    "# 3. uninstall imblearn\n",
    "# 4. install sci-kit 1.2.2 \n",
    "# 5. install imblearn \n",
    "# '''"
   ]
  },
  {
   "cell_type": "code",
   "execution_count": 84,
   "id": "1a528c4d",
   "metadata": {},
   "outputs": [],
   "source": [
    "# Over sample using SMOTE\n",
    "# -- by inspecting the data, we see that the minority class is extremely class (fraud \"Class\" == 1)\n",
    "sm = SMOTE(random_state=42)\n",
    "\n",
    "# Check if any value exceeds the int threshold \n",
    "# threshold = 2147483647\n",
    "# exceeds_threshold = (X_train > threshold) | (X_train < -threshold)\n",
    "# # Print the result\n",
    "# columns_exceeding_threshold = X_train.columns[exceeds_threshold.any()]\n",
    "# print(columns_exceeding_threshold)\n",
    "\n",
    "\n",
    "X_train_32 = X_train.astype('int32')\n",
    "X_smote, y_smote = sm.fit_resample(X_train_32, y_train)"
   ]
  },
  {
   "cell_type": "code",
   "execution_count": 7,
   "id": "f27f4bf8",
   "metadata": {},
   "outputs": [],
   "source": [
    "# -- Code to Inspect the data set -- \n",
    "# df_oversampled = X_smote\n",
    "# df_oversampled['Outcome_Variable'] = y_smote\n",
    "# df_oversampled\n",
    "# fig, ax = plt.subplots(figsize=(10, 8))\n",
    "# df_oversampled['Outcome_Variable'].value_counts().plot(kind='bar', ax=ax, fontsize=14)\n",
    "# ax.set_title('Oversampled Dataset', fontsize=16)\n",
    "# ax.set_ylabel('Observation counts', fontsize=14)\n",
    "# ax.set_xlabel('Class', fontsize=14)\n",
    "# plt.show()\n"
   ]
  },
  {
   "cell_type": "markdown",
   "id": "61cbbecc",
   "metadata": {},
   "source": [
    "## K-Fold Cross Validation \n",
    "We setup K-Fold cross validation for parameters fine-tuning in the models below as a 5 Fold. "
   ]
  },
  {
   "cell_type": "code",
   "execution_count": 110,
   "id": "5d5baf83",
   "metadata": {},
   "outputs": [],
   "source": [
    "# Set up K-Fold Cross Validation \n",
    "n_splits = 5\n",
    "shuffle = True\n",
    "random_state = 809\n",
    "cv = KFold(n_splits=n_splits, shuffle=shuffle, random_state=random_state)\n",
    "# plot = plot_cv_indices(cv, X_smote, y_smote, n_splits)"
   ]
  },
  {
   "cell_type": "markdown",
   "id": "2991280a",
   "metadata": {},
   "source": [
    "## Model 1 : Logistic Regression "
   ]
  },
  {
   "cell_type": "code",
   "execution_count": 9,
   "id": "abb0ebd3",
   "metadata": {},
   "outputs": [],
   "source": [
    "def plot_cv_indices(cv, X, y, n_splits, lw=10):\n",
    "    '''\n",
    "    This function plots the Cross validation indices.\n",
    "    '''\n",
    "    \n",
    "    fig, ax = plt.subplots(figsize = (15,8))\n",
    "    # Generate the training/testing visualizations for each CV split\n",
    "    for ii, (tr, tt) in enumerate(cv.split(X=X, y=y)):\n",
    "        # Fill in indices with the training/test groups\n",
    "        indices = np.array([np.nan] * len(X))\n",
    "        indices[tt] = 1\n",
    "        indices[tr] = 0\n",
    "\n",
    "        # Visualize the results\n",
    "        ax.scatter(range(len(indices)), [ii + .5] * len(indices),\n",
    "                   c=indices, marker='_', lw=lw, cmap=plt.cm.coolwarm,\n",
    "                   vmin=-.2, vmax=1.2)\n",
    "\n",
    "    # Plot the data classes\n",
    "    ax.scatter(range(len(X)), [ii + 1.5] * len(X), c=y, marker='_', lw=lw, cmap=plt.cm.Paired)\n",
    "\n",
    "    # Formatting\n",
    "    yticklabels = list(range(n_splits)) + ['Class']\n",
    "    ax.set(yticks=np.arange(n_splits+1) + .5, yticklabels=yticklabels,\n",
    "           xlabel='Sample index', ylabel=\"CV iteration\",\n",
    "           ylim=[n_splits+2.2, -.2])\n",
    "    ax.set_title('{}'.format(type(cv).__name__), fontsize=15)\n",
    "    return ax"
   ]
  },
  {
   "cell_type": "code",
   "execution_count": 130,
   "id": "1dbaa24c",
   "metadata": {},
   "outputs": [],
   "source": [
    "# Model 1 : Logistic Model \n",
    "logistic_model = LogisticRegression(solver='lbfgs', max_iter=300)\n",
    "for train_index, test_index in cv.split(X_smote):\n",
    "    # change to loc to define the rows in the dataframe \n",
    "    X_cv_train, X_cv_test, y_cv_train, y_cv_test = X_smote.loc[train_index], X_smote.loc[test_index], y_smote[train_index], y_smote[test_index]\n",
    "    logistic_model.fit(X_cv_train, y_cv_train)\n",
    "    #Cross-Validation Prediction Error\n",
    "    score = logistic_model.score(X_cv_test, y_cv_test)\n",
    "    print(score)"
   ]
  },
  {
   "cell_type": "code",
   "execution_count": 121,
   "id": "5781f426",
   "metadata": {},
   "outputs": [
    {
     "name": "stdout",
     "output_type": "stream",
     "text": [
      "Logistic Model score : 0.9846037709350093\n",
      "Logistic Model Recall :  0.8631578947368421\n",
      "Logistic Model Precision :  0.08668076109936575\n",
      "Probability if you only predict 0s  0.998\n"
     ]
    }
   ],
   "source": [
    "logit = LogisticRegression(solver='lbfgs', max_iter=1000)\n",
    "logit.fit(X_smote, y_smote)    \n",
    "score_OOS = logit.score(X_OOS_test, y_OOS_test)\n",
    "print (\"Logistic Model score :\" , score_OOS)\n",
    "y_pred = logit.predict(X_OOS_test)\n",
    "print(\"Logistic Model Recall : \" , recall_score(y_OOS_test, y_pred))\n",
    "print(\"Logistic Model Precision : \", precision_score(y_OOS_test,y_pred))\n",
    "print(\"Probability if you only predict 0s \", 1-round(95/56867,3))"
   ]
  },
  {
   "cell_type": "markdown",
   "id": "37c02911",
   "metadata": {},
   "source": [
    "\n",
    "\n",
    "## Model 2 : Lasso "
   ]
  },
  {
   "cell_type": "code",
   "execution_count": 15,
   "id": "1d072777",
   "metadata": {},
   "outputs": [],
   "source": [
    "# Model 2 : LASSO \n",
    "\n",
    "# Cross Validate the penalty term in lasso\n",
    "cross_validate_result = {}  \n",
    "iter_alpha = 0.01\n",
    "for penalty_term in range(100): \n",
    "    print(penalty_term)\n",
    "    accuracies = [] \n",
    "    lasso = linear_model.Lasso(alpha=iter_alpha)\n",
    "    for train_index, test_index in cv.split(X_smote):\n",
    "        # change to loc to define the rows in the dataframe \n",
    "        X_cv_train, X_cv_test, y_cv_train, y_cv_test = X_smote.loc[train_index], X_smote.loc[test_index], y_smote[train_index], y_smote[test_index]\n",
    "        logistic_model.fit(X_cv_train, y_cv_train)\n",
    "        #Cross-Validation Prediction Error\n",
    "        score = logistic_model.score(X_cv_test, y_cv_test)\n",
    "        accuracies.append(score)\n",
    "    cross_validate_result[penalty_term] = (sum(accuracies)/len(accuracies))\n",
    "    iter_alpha += 0.05\n",
    "    print(\"Alpha : \" + str(iter_alpha) + \" \" + str((sum(accuracies)/len(accuracies))))\n",
    "print(cross_validate_result)\n",
    "print(max(cross_validate_result, key=cross_validate_result.get))\n",
    "    "
   ]
  },
  {
   "cell_type": "markdown",
   "id": "973407f6",
   "metadata": {},
   "source": [
    "### OLS vs Lasso vs Ridge regression"
   ]
  },
  {
   "cell_type": "code",
   "execution_count": 120,
   "id": "6354c645",
   "metadata": {},
   "outputs": [
    {
     "name": "stdout",
     "output_type": "stream",
     "text": [
      "OLS Model Recall :  0.7684210526315789\n",
      "OLS Model Precision :  0.08805790108564536\n",
      "--\n",
      "LASSO score : \n",
      "LASSO Model Recall :  0.7789473684210526\n",
      "LASSO Model Precision :  0.09762532981530343\n",
      "--\n",
      "Ridge Model Recall :  0.7684210526315789\n",
      "Ridge Model Precision :  0.08805790108564536\n"
     ]
    }
   ],
   "source": [
    "# OLS \n",
    "ols = linear_model.LinearRegression()\n",
    "ols.fit(X_smote, y_smote)    \n",
    "y_pred = ols.predict(X_OOS_test)\n",
    "# turn the continous value into classification via simple >= 0.5 is 1 \n",
    "y_pred_classification = [1 if x >= 0.5 else 0 for x in y_pred]\n",
    "print(\"OLS Model Recall : \" , recall_score(y_OOS_test, y_pred_classification))\n",
    "print(\"OLS Model Precision : \", precision_score(y_OOS_test,y_pred_classification))\n",
    "print(\"--\")\n",
    "\n",
    "# LASSO \n",
    "lasso = linear_model.Lasso(alpha=1)\n",
    "lasso.fit(X_smote, y_smote)\n",
    "y_pred = lasso.predict(X_OOS_test)\n",
    "# turn the continous value into classification via simple >= 0.5 is 1 \n",
    "y_pred_classification = [1 if x >= 0.5 else 0 for x in y_pred]\n",
    "print(\"LASSO score : \" , )\n",
    "print(\"LASSO Model Recall : \" , recall_score(y_OOS_test, y_pred_classification))\n",
    "print(\"LASSO Model Precision : \", precision_score(y_OOS_test,y_pred_classification))\n",
    "print(\"--\")\n",
    "\n",
    "# RIDGE\n",
    "ridge = linear_model.Ridge(alpha=1)\n",
    "ridge.fit(X_smote, y_smote)\n",
    "y_pred = ridge.predict(X_OOS_test)\n",
    "# turn the continous value into classification via simple >= 0.5 is 1 \n",
    "y_pred_classification = [1 if x >= 0.5 else 0 for x in y_pred]\n",
    "print(\"Ridge Model Recall : \" , recall_score(y_OOS_test, y_pred_classification))\n",
    "print(\"Ridge Model Precision : \", precision_score(y_OOS_test,y_pred_classification))"
   ]
  },
  {
   "cell_type": "markdown",
   "id": "47996542",
   "metadata": {},
   "source": [
    "Looks like the curse of dimensionality. \n",
    "\n",
    "## Random Forest "
   ]
  },
  {
   "cell_type": "code",
   "execution_count": 122,
   "id": "289dfa79",
   "metadata": {},
   "outputs": [
    {
     "data": {
      "text/html": [
       "<style>#sk-container-id-12 {color: black;background-color: white;}#sk-container-id-12 pre{padding: 0;}#sk-container-id-12 div.sk-toggleable {background-color: white;}#sk-container-id-12 label.sk-toggleable__label {cursor: pointer;display: block;width: 100%;margin-bottom: 0;padding: 0.3em;box-sizing: border-box;text-align: center;}#sk-container-id-12 label.sk-toggleable__label-arrow:before {content: \"▸\";float: left;margin-right: 0.25em;color: #696969;}#sk-container-id-12 label.sk-toggleable__label-arrow:hover:before {color: black;}#sk-container-id-12 div.sk-estimator:hover label.sk-toggleable__label-arrow:before {color: black;}#sk-container-id-12 div.sk-toggleable__content {max-height: 0;max-width: 0;overflow: hidden;text-align: left;background-color: #f0f8ff;}#sk-container-id-12 div.sk-toggleable__content pre {margin: 0.2em;color: black;border-radius: 0.25em;background-color: #f0f8ff;}#sk-container-id-12 input.sk-toggleable__control:checked~div.sk-toggleable__content {max-height: 200px;max-width: 100%;overflow: auto;}#sk-container-id-12 input.sk-toggleable__control:checked~label.sk-toggleable__label-arrow:before {content: \"▾\";}#sk-container-id-12 div.sk-estimator input.sk-toggleable__control:checked~label.sk-toggleable__label {background-color: #d4ebff;}#sk-container-id-12 div.sk-label input.sk-toggleable__control:checked~label.sk-toggleable__label {background-color: #d4ebff;}#sk-container-id-12 input.sk-hidden--visually {border: 0;clip: rect(1px 1px 1px 1px);clip: rect(1px, 1px, 1px, 1px);height: 1px;margin: -1px;overflow: hidden;padding: 0;position: absolute;width: 1px;}#sk-container-id-12 div.sk-estimator {font-family: monospace;background-color: #f0f8ff;border: 1px dotted black;border-radius: 0.25em;box-sizing: border-box;margin-bottom: 0.5em;}#sk-container-id-12 div.sk-estimator:hover {background-color: #d4ebff;}#sk-container-id-12 div.sk-parallel-item::after {content: \"\";width: 100%;border-bottom: 1px solid gray;flex-grow: 1;}#sk-container-id-12 div.sk-label:hover label.sk-toggleable__label {background-color: #d4ebff;}#sk-container-id-12 div.sk-serial::before {content: \"\";position: absolute;border-left: 1px solid gray;box-sizing: border-box;top: 0;bottom: 0;left: 50%;z-index: 0;}#sk-container-id-12 div.sk-serial {display: flex;flex-direction: column;align-items: center;background-color: white;padding-right: 0.2em;padding-left: 0.2em;position: relative;}#sk-container-id-12 div.sk-item {position: relative;z-index: 1;}#sk-container-id-12 div.sk-parallel {display: flex;align-items: stretch;justify-content: center;background-color: white;position: relative;}#sk-container-id-12 div.sk-item::before, #sk-container-id-12 div.sk-parallel-item::before {content: \"\";position: absolute;border-left: 1px solid gray;box-sizing: border-box;top: 0;bottom: 0;left: 50%;z-index: -1;}#sk-container-id-12 div.sk-parallel-item {display: flex;flex-direction: column;z-index: 1;position: relative;background-color: white;}#sk-container-id-12 div.sk-parallel-item:first-child::after {align-self: flex-end;width: 50%;}#sk-container-id-12 div.sk-parallel-item:last-child::after {align-self: flex-start;width: 50%;}#sk-container-id-12 div.sk-parallel-item:only-child::after {width: 0;}#sk-container-id-12 div.sk-dashed-wrapped {border: 1px dashed gray;margin: 0 0.4em 0.5em 0.4em;box-sizing: border-box;padding-bottom: 0.4em;background-color: white;}#sk-container-id-12 div.sk-label label {font-family: monospace;font-weight: bold;display: inline-block;line-height: 1.2em;}#sk-container-id-12 div.sk-label-container {text-align: center;}#sk-container-id-12 div.sk-container {/* jupyter's `normalize.less` sets `[hidden] { display: none; }` but bootstrap.min.css set `[hidden] { display: none !important; }` so we also need the `!important` here to be able to override the default hidden behavior on the sphinx rendered scikit-learn.org. See: https://github.com/scikit-learn/scikit-learn/issues/21755 */display: inline-block !important;position: relative;}#sk-container-id-12 div.sk-text-repr-fallback {display: none;}</style><div id=\"sk-container-id-12\" class=\"sk-top-container\"><div class=\"sk-text-repr-fallback\"><pre>RandomForestClassifier(max_depth=10, random_state=0)</pre><b>In a Jupyter environment, please rerun this cell to show the HTML representation or trust the notebook. <br />On GitHub, the HTML representation is unable to render, please try loading this page with nbviewer.org.</b></div><div class=\"sk-container\" hidden><div class=\"sk-item\"><div class=\"sk-estimator sk-toggleable\"><input class=\"sk-toggleable__control sk-hidden--visually\" id=\"sk-estimator-id-16\" type=\"checkbox\" checked><label for=\"sk-estimator-id-16\" class=\"sk-toggleable__label sk-toggleable__label-arrow\">RandomForestClassifier</label><div class=\"sk-toggleable__content\"><pre>RandomForestClassifier(max_depth=10, random_state=0)</pre></div></div></div></div></div>"
      ],
      "text/plain": [
       "RandomForestClassifier(max_depth=10, random_state=0)"
      ]
     },
     "execution_count": 122,
     "metadata": {},
     "output_type": "execute_result"
    }
   ],
   "source": [
    "\n",
    "random_forest = RandomForestClassifier(n_estimators = 100, max_depth=10, random_state=0)\n",
    "random_forest.fit(X_smote, y_smote)\n"
   ]
  },
  {
   "cell_type": "code",
   "execution_count": 123,
   "id": "b720bb1b",
   "metadata": {},
   "outputs": [
    {
     "name": "stdout",
     "output_type": "stream",
     "text": [
      "RND Forest Model Recall :  0.8526315789473684\n",
      "RND Forest Precision :  0.4879518072289157\n"
     ]
    }
   ],
   "source": [
    "y_pred = random_forest.predict(X_OOS_test)\n",
    "print(\"RND Forest Model Recall : \" , recall_score(y_OOS_test, y_pred))\n",
    "print(\"RND Forest Precision : \", precision_score(y_OOS_test,y_pred))"
   ]
  },
  {
   "cell_type": "markdown",
   "id": "dc4b90d5",
   "metadata": {},
   "source": [
    "## Random forest with LASSO selected variables "
   ]
  },
  {
   "cell_type": "code",
   "execution_count": 101,
   "id": "0655c8ee",
   "metadata": {},
   "outputs": [
    {
     "name": "stdout",
     "output_type": "stream",
     "text": [
      "Index(['V1', 'V2', 'V3', 'V4', 'V5', 'V6', 'V7', 'V8', 'V9', 'V10', 'V11',\n",
      "       'V12', 'V13', 'V14', 'V15', 'V16', 'V17', 'V18', 'V19', 'V20', 'V21',\n",
      "       'V22', 'V23', 'V24', 'V25', 'V26', 'V27', 'V28', 'Amount'],\n",
      "      dtype='object')\n",
      "[-0.          0.         -0.00326987  0.         -0.         -0.\n",
      " -0.          0.         -0.         -0.          0.         -0.\n",
      " -0.         -0.03410666 -0.         -0.         -0.         -0.\n",
      "  0.          0.          0.         -0.         -0.         -0.\n",
      "  0.         -0.          0.          0.          0.00014124]\n",
      "  (0, 2)\t-0.003269866219385262\n",
      "  (0, 13)\t-0.03410666159760446\n",
      "  (0, 28)\t0.00014124466427369918\n"
     ]
    }
   ],
   "source": [
    "print(X_smote.columns)\n",
    "print(lasso.coef_)\n",
    "print(lasso.sparse_coef_)"
   ]
  },
  {
   "cell_type": "code",
   "execution_count": 94,
   "id": "790726fd",
   "metadata": {},
   "outputs": [
    {
     "name": "stdout",
     "output_type": "stream",
     "text": [
      "  (0, 2)\t-0.003269866219385262\n",
      "  (0, 13)\t-0.03410666159760446\n",
      "  (0, 28)\t0.00014124466427369918\n"
     ]
    },
    {
     "data": {
      "text/html": [
       "<style>#sk-container-id-6 {color: black;background-color: white;}#sk-container-id-6 pre{padding: 0;}#sk-container-id-6 div.sk-toggleable {background-color: white;}#sk-container-id-6 label.sk-toggleable__label {cursor: pointer;display: block;width: 100%;margin-bottom: 0;padding: 0.3em;box-sizing: border-box;text-align: center;}#sk-container-id-6 label.sk-toggleable__label-arrow:before {content: \"▸\";float: left;margin-right: 0.25em;color: #696969;}#sk-container-id-6 label.sk-toggleable__label-arrow:hover:before {color: black;}#sk-container-id-6 div.sk-estimator:hover label.sk-toggleable__label-arrow:before {color: black;}#sk-container-id-6 div.sk-toggleable__content {max-height: 0;max-width: 0;overflow: hidden;text-align: left;background-color: #f0f8ff;}#sk-container-id-6 div.sk-toggleable__content pre {margin: 0.2em;color: black;border-radius: 0.25em;background-color: #f0f8ff;}#sk-container-id-6 input.sk-toggleable__control:checked~div.sk-toggleable__content {max-height: 200px;max-width: 100%;overflow: auto;}#sk-container-id-6 input.sk-toggleable__control:checked~label.sk-toggleable__label-arrow:before {content: \"▾\";}#sk-container-id-6 div.sk-estimator input.sk-toggleable__control:checked~label.sk-toggleable__label {background-color: #d4ebff;}#sk-container-id-6 div.sk-label input.sk-toggleable__control:checked~label.sk-toggleable__label {background-color: #d4ebff;}#sk-container-id-6 input.sk-hidden--visually {border: 0;clip: rect(1px 1px 1px 1px);clip: rect(1px, 1px, 1px, 1px);height: 1px;margin: -1px;overflow: hidden;padding: 0;position: absolute;width: 1px;}#sk-container-id-6 div.sk-estimator {font-family: monospace;background-color: #f0f8ff;border: 1px dotted black;border-radius: 0.25em;box-sizing: border-box;margin-bottom: 0.5em;}#sk-container-id-6 div.sk-estimator:hover {background-color: #d4ebff;}#sk-container-id-6 div.sk-parallel-item::after {content: \"\";width: 100%;border-bottom: 1px solid gray;flex-grow: 1;}#sk-container-id-6 div.sk-label:hover label.sk-toggleable__label {background-color: #d4ebff;}#sk-container-id-6 div.sk-serial::before {content: \"\";position: absolute;border-left: 1px solid gray;box-sizing: border-box;top: 0;bottom: 0;left: 50%;z-index: 0;}#sk-container-id-6 div.sk-serial {display: flex;flex-direction: column;align-items: center;background-color: white;padding-right: 0.2em;padding-left: 0.2em;position: relative;}#sk-container-id-6 div.sk-item {position: relative;z-index: 1;}#sk-container-id-6 div.sk-parallel {display: flex;align-items: stretch;justify-content: center;background-color: white;position: relative;}#sk-container-id-6 div.sk-item::before, #sk-container-id-6 div.sk-parallel-item::before {content: \"\";position: absolute;border-left: 1px solid gray;box-sizing: border-box;top: 0;bottom: 0;left: 50%;z-index: -1;}#sk-container-id-6 div.sk-parallel-item {display: flex;flex-direction: column;z-index: 1;position: relative;background-color: white;}#sk-container-id-6 div.sk-parallel-item:first-child::after {align-self: flex-end;width: 50%;}#sk-container-id-6 div.sk-parallel-item:last-child::after {align-self: flex-start;width: 50%;}#sk-container-id-6 div.sk-parallel-item:only-child::after {width: 0;}#sk-container-id-6 div.sk-dashed-wrapped {border: 1px dashed gray;margin: 0 0.4em 0.5em 0.4em;box-sizing: border-box;padding-bottom: 0.4em;background-color: white;}#sk-container-id-6 div.sk-label label {font-family: monospace;font-weight: bold;display: inline-block;line-height: 1.2em;}#sk-container-id-6 div.sk-label-container {text-align: center;}#sk-container-id-6 div.sk-container {/* jupyter's `normalize.less` sets `[hidden] { display: none; }` but bootstrap.min.css set `[hidden] { display: none !important; }` so we also need the `!important` here to be able to override the default hidden behavior on the sphinx rendered scikit-learn.org. See: https://github.com/scikit-learn/scikit-learn/issues/21755 */display: inline-block !important;position: relative;}#sk-container-id-6 div.sk-text-repr-fallback {display: none;}</style><div id=\"sk-container-id-6\" class=\"sk-top-container\"><div class=\"sk-text-repr-fallback\"><pre>RandomForestClassifier(max_depth=2)</pre><b>In a Jupyter environment, please rerun this cell to show the HTML representation or trust the notebook. <br />On GitHub, the HTML representation is unable to render, please try loading this page with nbviewer.org.</b></div><div class=\"sk-container\" hidden><div class=\"sk-item\"><div class=\"sk-estimator sk-toggleable\"><input class=\"sk-toggleable__control sk-hidden--visually\" id=\"sk-estimator-id-6\" type=\"checkbox\" checked><label for=\"sk-estimator-id-6\" class=\"sk-toggleable__label sk-toggleable__label-arrow\">RandomForestClassifier</label><div class=\"sk-toggleable__content\"><pre>RandomForestClassifier(max_depth=2)</pre></div></div></div></div></div>"
      ],
      "text/plain": [
       "RandomForestClassifier(max_depth=2)"
      ]
     },
     "execution_count": 94,
     "metadata": {},
     "output_type": "execute_result"
    }
   ],
   "source": [
    "# Random forest + LASSO \n",
    "X_train_rf_lasso = X_smote[[\"V3\",\"V14\",\"Amount\"]]\n",
    "rf_lasso = RandomForestClassifier(max_depth=2)\n",
    "rf_lasso.fit(X_train_rf_lasso, y_smote)\n",
    "\n"
   ]
  },
  {
   "cell_type": "code",
   "execution_count": 95,
   "id": "465e08b3",
   "metadata": {},
   "outputs": [
    {
     "name": "stdout",
     "output_type": "stream",
     "text": [
      "RND Forest with LASSO Model Recall :  0.8526315789473684\n",
      "RND Forest with LASSO Precision :  0.0472027972027972\n"
     ]
    }
   ],
   "source": [
    "X_test_rf_lasso_OOS = X_OOS_test[[\"V3\",\"V14\",\"Amount\"]]\n",
    "y_pred = clf.predict(X_test_rf_lasso_OOS)\n",
    "print(\"RND Forest with LASSO Model Recall : \" , recall_score(y_OOS_test, y_pred))\n",
    "print(\"RND Forest with LASSO Precision : \", precision_score(y_OOS_test,y_pred))"
   ]
  },
  {
   "cell_type": "markdown",
   "id": "e1942d64",
   "metadata": {},
   "source": [
    "## Using Param Grid to search for best value with K-Fold Cross Validation "
   ]
  },
  {
   "cell_type": "code",
   "execution_count": 128,
   "id": "6c434e4b",
   "metadata": {},
   "outputs": [
    {
     "data": {
      "text/html": [
       "<style>#sk-container-id-14 {color: black;background-color: white;}#sk-container-id-14 pre{padding: 0;}#sk-container-id-14 div.sk-toggleable {background-color: white;}#sk-container-id-14 label.sk-toggleable__label {cursor: pointer;display: block;width: 100%;margin-bottom: 0;padding: 0.3em;box-sizing: border-box;text-align: center;}#sk-container-id-14 label.sk-toggleable__label-arrow:before {content: \"▸\";float: left;margin-right: 0.25em;color: #696969;}#sk-container-id-14 label.sk-toggleable__label-arrow:hover:before {color: black;}#sk-container-id-14 div.sk-estimator:hover label.sk-toggleable__label-arrow:before {color: black;}#sk-container-id-14 div.sk-toggleable__content {max-height: 0;max-width: 0;overflow: hidden;text-align: left;background-color: #f0f8ff;}#sk-container-id-14 div.sk-toggleable__content pre {margin: 0.2em;color: black;border-radius: 0.25em;background-color: #f0f8ff;}#sk-container-id-14 input.sk-toggleable__control:checked~div.sk-toggleable__content {max-height: 200px;max-width: 100%;overflow: auto;}#sk-container-id-14 input.sk-toggleable__control:checked~label.sk-toggleable__label-arrow:before {content: \"▾\";}#sk-container-id-14 div.sk-estimator input.sk-toggleable__control:checked~label.sk-toggleable__label {background-color: #d4ebff;}#sk-container-id-14 div.sk-label input.sk-toggleable__control:checked~label.sk-toggleable__label {background-color: #d4ebff;}#sk-container-id-14 input.sk-hidden--visually {border: 0;clip: rect(1px 1px 1px 1px);clip: rect(1px, 1px, 1px, 1px);height: 1px;margin: -1px;overflow: hidden;padding: 0;position: absolute;width: 1px;}#sk-container-id-14 div.sk-estimator {font-family: monospace;background-color: #f0f8ff;border: 1px dotted black;border-radius: 0.25em;box-sizing: border-box;margin-bottom: 0.5em;}#sk-container-id-14 div.sk-estimator:hover {background-color: #d4ebff;}#sk-container-id-14 div.sk-parallel-item::after {content: \"\";width: 100%;border-bottom: 1px solid gray;flex-grow: 1;}#sk-container-id-14 div.sk-label:hover label.sk-toggleable__label {background-color: #d4ebff;}#sk-container-id-14 div.sk-serial::before {content: \"\";position: absolute;border-left: 1px solid gray;box-sizing: border-box;top: 0;bottom: 0;left: 50%;z-index: 0;}#sk-container-id-14 div.sk-serial {display: flex;flex-direction: column;align-items: center;background-color: white;padding-right: 0.2em;padding-left: 0.2em;position: relative;}#sk-container-id-14 div.sk-item {position: relative;z-index: 1;}#sk-container-id-14 div.sk-parallel {display: flex;align-items: stretch;justify-content: center;background-color: white;position: relative;}#sk-container-id-14 div.sk-item::before, #sk-container-id-14 div.sk-parallel-item::before {content: \"\";position: absolute;border-left: 1px solid gray;box-sizing: border-box;top: 0;bottom: 0;left: 50%;z-index: -1;}#sk-container-id-14 div.sk-parallel-item {display: flex;flex-direction: column;z-index: 1;position: relative;background-color: white;}#sk-container-id-14 div.sk-parallel-item:first-child::after {align-self: flex-end;width: 50%;}#sk-container-id-14 div.sk-parallel-item:last-child::after {align-self: flex-start;width: 50%;}#sk-container-id-14 div.sk-parallel-item:only-child::after {width: 0;}#sk-container-id-14 div.sk-dashed-wrapped {border: 1px dashed gray;margin: 0 0.4em 0.5em 0.4em;box-sizing: border-box;padding-bottom: 0.4em;background-color: white;}#sk-container-id-14 div.sk-label label {font-family: monospace;font-weight: bold;display: inline-block;line-height: 1.2em;}#sk-container-id-14 div.sk-label-container {text-align: center;}#sk-container-id-14 div.sk-container {/* jupyter's `normalize.less` sets `[hidden] { display: none; }` but bootstrap.min.css set `[hidden] { display: none !important; }` so we also need the `!important` here to be able to override the default hidden behavior on the sphinx rendered scikit-learn.org. See: https://github.com/scikit-learn/scikit-learn/issues/21755 */display: inline-block !important;position: relative;}#sk-container-id-14 div.sk-text-repr-fallback {display: none;}</style><div id=\"sk-container-id-14\" class=\"sk-top-container\"><div class=\"sk-text-repr-fallback\"><pre>GridSearchCV(cv=KFold(n_splits=5, random_state=809, shuffle=True),\n",
       "             estimator=RandomForestClassifier(), n_jobs=3,\n",
       "             param_grid=[{&#x27;max_depth&#x27;: [10, 20, 30],\n",
       "                          &#x27;n_estimators&#x27;: [200, 225, 250]}])</pre><b>In a Jupyter environment, please rerun this cell to show the HTML representation or trust the notebook. <br />On GitHub, the HTML representation is unable to render, please try loading this page with nbviewer.org.</b></div><div class=\"sk-container\" hidden><div class=\"sk-item sk-dashed-wrapped\"><div class=\"sk-label-container\"><div class=\"sk-label sk-toggleable\"><input class=\"sk-toggleable__control sk-hidden--visually\" id=\"sk-estimator-id-20\" type=\"checkbox\" ><label for=\"sk-estimator-id-20\" class=\"sk-toggleable__label sk-toggleable__label-arrow\">GridSearchCV</label><div class=\"sk-toggleable__content\"><pre>GridSearchCV(cv=KFold(n_splits=5, random_state=809, shuffle=True),\n",
       "             estimator=RandomForestClassifier(), n_jobs=3,\n",
       "             param_grid=[{&#x27;max_depth&#x27;: [10, 20, 30],\n",
       "                          &#x27;n_estimators&#x27;: [200, 225, 250]}])</pre></div></div></div><div class=\"sk-parallel\"><div class=\"sk-parallel-item\"><div class=\"sk-item\"><div class=\"sk-label-container\"><div class=\"sk-label sk-toggleable\"><input class=\"sk-toggleable__control sk-hidden--visually\" id=\"sk-estimator-id-21\" type=\"checkbox\" ><label for=\"sk-estimator-id-21\" class=\"sk-toggleable__label sk-toggleable__label-arrow\">estimator: RandomForestClassifier</label><div class=\"sk-toggleable__content\"><pre>RandomForestClassifier()</pre></div></div></div><div class=\"sk-serial\"><div class=\"sk-item\"><div class=\"sk-estimator sk-toggleable\"><input class=\"sk-toggleable__control sk-hidden--visually\" id=\"sk-estimator-id-22\" type=\"checkbox\" ><label for=\"sk-estimator-id-22\" class=\"sk-toggleable__label sk-toggleable__label-arrow\">RandomForestClassifier</label><div class=\"sk-toggleable__content\"><pre>RandomForestClassifier()</pre></div></div></div></div></div></div></div></div></div></div>"
      ],
      "text/plain": [
       "GridSearchCV(cv=KFold(n_splits=5, random_state=809, shuffle=True),\n",
       "             estimator=RandomForestClassifier(), n_jobs=3,\n",
       "             param_grid=[{'max_depth': [10, 20, 30],\n",
       "                          'n_estimators': [200, 225, 250]}])"
      ]
     },
     "execution_count": 128,
     "metadata": {},
     "output_type": "execute_result"
    }
   ],
   "source": [
    "\n",
    "param_grid = [{'n_estimators': [200,225,250], 'max_depth' :[10,20,30]}]\n",
    "random_forest_cv = RandomForestClassifier()\n",
    "grid_cv = GridSearchCV(estimator=random_forest_cv, cv=cv, param_grid=param_grid, n_jobs = 3)\n",
    "grid_cv.fit(X_train_rf_lasso, y_smote)"
   ]
  },
  {
   "cell_type": "code",
   "execution_count": 129,
   "id": "da84bd6d",
   "metadata": {},
   "outputs": [
    {
     "name": "stdout",
     "output_type": "stream",
     "text": [
      "RandomForestClassifier(max_depth=30, n_estimators=250)\n"
     ]
    }
   ],
   "source": [
    "print(grid_cv.best_estimator_)\n"
   ]
  }
 ],
 "metadata": {
  "kernelspec": {
   "display_name": "Python 3 (ipykernel)",
   "language": "python",
   "name": "python3"
  },
  "language_info": {
   "codemirror_mode": {
    "name": "ipython",
    "version": 3
   },
   "file_extension": ".py",
   "mimetype": "text/x-python",
   "name": "python",
   "nbconvert_exporter": "python",
   "pygments_lexer": "ipython3",
   "version": "3.11.4"
  }
 },
 "nbformat": 4,
 "nbformat_minor": 5
}
