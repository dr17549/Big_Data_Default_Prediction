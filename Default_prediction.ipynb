{
 "cells": [
  {
   "cell_type": "code",
   "execution_count": 32,
   "id": "0e0dc808",
   "metadata": {
    "scrolled": true
   },
   "outputs": [],
   "source": [
    "import pandas as pd\n",
    "import numpy as np\n",
    "import matplotlib.pyplot as plt\n",
    "import seaborn as sns\n",
    "import plotly.express as px\n",
    "from sklearn.model_selection import train_test_split\n",
    "\n",
    "from sklearn.datasets import make_classification\n",
    "from sklearn.model_selection import KFold\n",
    "from sklearn.model_selection import cross_val_score\n",
    "from sklearn import linear_model\n",
    "from sklearn.linear_model import LogisticRegression, LinearRegression\n",
    "from sklearn.metrics import recall_score, precision_score, f1_score\n",
    "from sklearn.neighbors import KNeighborsRegressor\n",
    "from sklearn.ensemble import RandomForestClassifier\n",
    "from sklearn.datasets import make_classification\n",
    "from sklearn.model_selection import GridSearchCV, train_test_split\n",
    "from imblearn.over_sampling import SMOTE\n",
    "import category_encoders as ce\n"
   ]
  },
  {
   "cell_type": "markdown",
   "id": "97e94d7a",
   "metadata": {},
   "source": [
    "## Pre-Processing \n",
    "- Read the feather file into a dataframe \n",
    "- Drop some columns that do we do not want as the independent variables (Xs)"
   ]
  },
  {
   "cell_type": "code",
   "execution_count": 121,
   "id": "2915229e",
   "metadata": {},
   "outputs": [],
   "source": [
    "# df = pd.read_csv('lending_club_clean_sample.csv')\n",
    "# df = pd.read_feather('lending_club_smaller_sample.feather')\n",
    "\n",
    "# Read the feather file \n",
    "df = pd.read_feather('lending_club_clean.feather')"
   ]
  },
  {
   "cell_type": "markdown",
   "id": "1b09e1de",
   "metadata": {},
   "source": [
    "See which values we can classify as a default or cannot repay the loan "
   ]
  },
  {
   "cell_type": "code",
   "execution_count": 122,
   "id": "76308a3c",
   "metadata": {},
   "outputs": [
    {
     "name": "stdout",
     "output_type": "stream",
     "text": [
      "loan_status                                        \n",
      "Fully Paid                                             1497783\n",
      "Current                                                1031016\n",
      "Charged Off                                             362548\n",
      "Late (31-120 days)                                       16154\n",
      "In Grace Period                                          10028\n",
      "Late (16-30 days)                                         2719\n",
      "Issued                                                    2062\n",
      "Does not meet the credit policy. Status:Fully Paid        1988\n",
      "Does not meet the credit policy. Status:Charged Off        761\n",
      "Default                                                    433\n",
      "dtype: int64\n"
     ]
    }
   ],
   "source": [
    "# Check what kind of status does our Y variable have \n",
    "print(df[['loan_status']].value_counts())"
   ]
  },
  {
   "cell_type": "code",
   "execution_count": 123,
   "id": "1ca6360f",
   "metadata": {},
   "outputs": [],
   "source": [
    "# Convert description into a default or not default prediction \n",
    "default_description = [\"Charged Off\", \"Default\", \"Does not meet the credit policy. Status:Charged Off\", \"In Grace Period\",\n",
    "            \"Late (16-30 days)\", \"Late (31-120 days)\"]\n",
    "df['default'] = df['loan_status'].apply(lambda status: 1 if status in default_description else 0).astype(int) "
   ]
  },
  {
   "cell_type": "code",
   "execution_count": 124,
   "id": "76ce64b0",
   "metadata": {},
   "outputs": [],
   "source": [
    "# Create a different dataframe for the Y variable \n",
    "y = df['default']\n",
    "\n",
    "# Drop unnecessary variables \n",
    "df = df.drop(['id', 'default', 'revol_util' ,'sec_app_earliest_cr_line','loan_status', 'grade', 'sub_grade', \n",
    "              'emp_title', 'issue_d','url','title',\n",
    "              'zip_code','earliest_cr_line','last_pymnt_d',\n",
    "              'next_pymnt_d','last_credit_pull_d','hardship_type',\n",
    "              'hardship_start_date','hardship_end_date',\n",
    "              'payment_plan_start_date','hardship_loan_status','debt_settlement_flag'], axis=1)\n"
   ]
  },
  {
   "cell_type": "code",
   "execution_count": 125,
   "id": "6a5039f0",
   "metadata": {},
   "outputs": [],
   "source": [
    "# Properly turn variables that are categorical into the correct data type\n",
    "df = pd.concat([df,pd.get_dummies(df[\"emp_length\"],drop_first=True)],axis=1)\n",
    "df = pd.concat([df,pd.get_dummies(df[\"addr_state\"],drop_first=True)],axis=1)\n",
    "df = pd.concat([df,pd.get_dummies(df[\"home_ownership\"],drop_first=True)],axis=1)\n",
    "df = pd.concat([df,pd.get_dummies(df[\"verification_status\"],drop_first=True)],axis=1)\n",
    "df = pd.concat([df,pd.get_dummies(df[\"pymnt_plan\"],drop_first=True)],axis=1)\n",
    "df = pd.concat([df,pd.get_dummies(df[\"purpose\"],drop_first=True)],axis=1)\n",
    "df = pd.concat([df,pd.get_dummies(df[\"initial_list_status\"],drop_first=True)],axis=1)\n",
    "df = pd.concat([df,pd.get_dummies(df[\"application_type\"],drop_first=True)],axis=1)\n",
    "df = pd.concat([df,pd.get_dummies(df[\"hardship_flag\"],drop_first=True)],axis=1)\n",
    "df = pd.concat([df,pd.get_dummies(df[\"hardship_reason\"],drop_first=True)],axis=1)\n",
    "df = pd.concat([df,pd.get_dummies(df[\"verification_status_joint\"],drop_first=True)],axis=1)\n",
    "df = pd.concat([df,pd.get_dummies(df[\"hardship_status\"],drop_first=True)],axis=1)\n",
    "\n",
    "# drop the categorical columns as well \n",
    "df = df.drop(['emp_length', 'addr_state', 'home_ownership', \n",
    "              'verification_status', 'pymnt_plan','purpose','initial_list_status',\n",
    "              'application_type','hardship_flag',\n",
    "              'hardship_reason','verification_status_joint','hardship_status'], axis=1)\n",
    "\n",
    " "
   ]
  },
  {
   "cell_type": "markdown",
   "id": "fd4ab5ce",
   "metadata": {},
   "source": [
    "# Split the Test - Train Dataset "
   ]
  },
  {
   "cell_type": "code",
   "execution_count": 126,
   "id": "009fc525",
   "metadata": {},
   "outputs": [],
   "source": [
    "# Split train test dataset \n",
    "X_train, X_OOS_test, y_train, y_OOS_test = train_test_split(df, y, test_size=0.20, random_state=66)"
   ]
  },
  {
   "cell_type": "markdown",
   "id": "37b3a658",
   "metadata": {},
   "source": [
    "## Employ LASSO to reduce initial dimension \n",
    "We want to use LASSO right now to reduce the dimension from almost 100 to only those that play a significant role in predicting our dependent variable. "
   ]
  },
  {
   "cell_type": "code",
   "execution_count": 76,
   "id": "a68b6c75",
   "metadata": {},
   "outputs": [
    {
     "name": "stderr",
     "output_type": "stream",
     "text": [
      "/Users/dhammatornriewcharoon/anaconda3/lib/python3.11/site-packages/sklearn/linear_model/_coordinate_descent.py:631: ConvergenceWarning: Objective did not converge. You might want to increase the number of iterations, check the scale of the features or consider increasing regularisation. Duality gap: 6.246e+03, tolerance: 2.718e+01\n",
      "  model = cd_fast.enet_coordinate_descent(\n"
     ]
    },
    {
     "data": {
      "text/html": [
       "<style>#sk-container-id-4 {color: black;background-color: white;}#sk-container-id-4 pre{padding: 0;}#sk-container-id-4 div.sk-toggleable {background-color: white;}#sk-container-id-4 label.sk-toggleable__label {cursor: pointer;display: block;width: 100%;margin-bottom: 0;padding: 0.3em;box-sizing: border-box;text-align: center;}#sk-container-id-4 label.sk-toggleable__label-arrow:before {content: \"▸\";float: left;margin-right: 0.25em;color: #696969;}#sk-container-id-4 label.sk-toggleable__label-arrow:hover:before {color: black;}#sk-container-id-4 div.sk-estimator:hover label.sk-toggleable__label-arrow:before {color: black;}#sk-container-id-4 div.sk-toggleable__content {max-height: 0;max-width: 0;overflow: hidden;text-align: left;background-color: #f0f8ff;}#sk-container-id-4 div.sk-toggleable__content pre {margin: 0.2em;color: black;border-radius: 0.25em;background-color: #f0f8ff;}#sk-container-id-4 input.sk-toggleable__control:checked~div.sk-toggleable__content {max-height: 200px;max-width: 100%;overflow: auto;}#sk-container-id-4 input.sk-toggleable__control:checked~label.sk-toggleable__label-arrow:before {content: \"▾\";}#sk-container-id-4 div.sk-estimator input.sk-toggleable__control:checked~label.sk-toggleable__label {background-color: #d4ebff;}#sk-container-id-4 div.sk-label input.sk-toggleable__control:checked~label.sk-toggleable__label {background-color: #d4ebff;}#sk-container-id-4 input.sk-hidden--visually {border: 0;clip: rect(1px 1px 1px 1px);clip: rect(1px, 1px, 1px, 1px);height: 1px;margin: -1px;overflow: hidden;padding: 0;position: absolute;width: 1px;}#sk-container-id-4 div.sk-estimator {font-family: monospace;background-color: #f0f8ff;border: 1px dotted black;border-radius: 0.25em;box-sizing: border-box;margin-bottom: 0.5em;}#sk-container-id-4 div.sk-estimator:hover {background-color: #d4ebff;}#sk-container-id-4 div.sk-parallel-item::after {content: \"\";width: 100%;border-bottom: 1px solid gray;flex-grow: 1;}#sk-container-id-4 div.sk-label:hover label.sk-toggleable__label {background-color: #d4ebff;}#sk-container-id-4 div.sk-serial::before {content: \"\";position: absolute;border-left: 1px solid gray;box-sizing: border-box;top: 0;bottom: 0;left: 50%;z-index: 0;}#sk-container-id-4 div.sk-serial {display: flex;flex-direction: column;align-items: center;background-color: white;padding-right: 0.2em;padding-left: 0.2em;position: relative;}#sk-container-id-4 div.sk-item {position: relative;z-index: 1;}#sk-container-id-4 div.sk-parallel {display: flex;align-items: stretch;justify-content: center;background-color: white;position: relative;}#sk-container-id-4 div.sk-item::before, #sk-container-id-4 div.sk-parallel-item::before {content: \"\";position: absolute;border-left: 1px solid gray;box-sizing: border-box;top: 0;bottom: 0;left: 50%;z-index: -1;}#sk-container-id-4 div.sk-parallel-item {display: flex;flex-direction: column;z-index: 1;position: relative;background-color: white;}#sk-container-id-4 div.sk-parallel-item:first-child::after {align-self: flex-end;width: 50%;}#sk-container-id-4 div.sk-parallel-item:last-child::after {align-self: flex-start;width: 50%;}#sk-container-id-4 div.sk-parallel-item:only-child::after {width: 0;}#sk-container-id-4 div.sk-dashed-wrapped {border: 1px dashed gray;margin: 0 0.4em 0.5em 0.4em;box-sizing: border-box;padding-bottom: 0.4em;background-color: white;}#sk-container-id-4 div.sk-label label {font-family: monospace;font-weight: bold;display: inline-block;line-height: 1.2em;}#sk-container-id-4 div.sk-label-container {text-align: center;}#sk-container-id-4 div.sk-container {/* jupyter's `normalize.less` sets `[hidden] { display: none; }` but bootstrap.min.css set `[hidden] { display: none !important; }` so we also need the `!important` here to be able to override the default hidden behavior on the sphinx rendered scikit-learn.org. See: https://github.com/scikit-learn/scikit-learn/issues/21755 */display: inline-block !important;position: relative;}#sk-container-id-4 div.sk-text-repr-fallback {display: none;}</style><div id=\"sk-container-id-4\" class=\"sk-top-container\"><div class=\"sk-text-repr-fallback\"><pre>Lasso(alpha=1)</pre><b>In a Jupyter environment, please rerun this cell to show the HTML representation or trust the notebook. <br />On GitHub, the HTML representation is unable to render, please try loading this page with nbviewer.org.</b></div><div class=\"sk-container\" hidden><div class=\"sk-item\"><div class=\"sk-estimator sk-toggleable\"><input class=\"sk-toggleable__control sk-hidden--visually\" id=\"sk-estimator-id-4\" type=\"checkbox\" checked><label for=\"sk-estimator-id-4\" class=\"sk-toggleable__label sk-toggleable__label-arrow\">Lasso</label><div class=\"sk-toggleable__content\"><pre>Lasso(alpha=1)</pre></div></div></div></div></div>"
      ],
      "text/plain": [
       "Lasso(alpha=1)"
      ]
     },
     "execution_count": 76,
     "metadata": {},
     "output_type": "execute_result"
    }
   ],
   "source": [
    "# We do the LASSO to determine which variables are important and which are not \n",
    "lasso = linear_model.Lasso(alpha=1)\n",
    "lasso.fit(X_train, y_train)"
   ]
  },
  {
   "cell_type": "code",
   "execution_count": 152,
   "id": "fdd2d972",
   "metadata": {},
   "outputs": [
    {
     "name": "stdout",
     "output_type": "stream",
     "text": [
      "Lasso Coefficients:\n",
      "loan_amnt: 1.8418480746059375e-05\n",
      "funded_amnt: 2.9019797925382364e-06\n",
      "annual_inc: -1.3709759550735986e-08\n",
      "revol_bal: -1.7393438914558872e-07\n",
      "out_prncp: -2.850765645641118e-05\n",
      "total_pymnt: 5.3393656354463745e-06\n",
      "total_rec_prncp: -3.463307740446701e-05\n",
      "recoveries: 7.0018388011694515e-06\n",
      "last_pymnt_amnt: -8.652162154755563e-06\n",
      "last_fico_range_high: -0.0025560709826554567\n",
      "annual_inc_joint: 1.1166230875702334e-07\n",
      "tot_cur_bal: -1.077267273772772e-07\n",
      "total_bal_il: -3.9327418478560655e-07\n",
      "max_bal_bc: -1.4982387187530531e-06\n",
      "total_rev_hi_lim: 1.1005262929425867e-07\n",
      "avg_cur_bal: -8.910101544429647e-08\n",
      "bc_open_to_buy: 7.965068057032995e-07\n",
      "tot_hi_cred_lim: 1.0138721654544001e-07\n",
      "total_bal_ex_mort: 1.818104479147108e-07\n",
      "total_bc_limit: -1.6730792810998994e-07\n",
      "total_il_high_credit_limit: -2.7529721533961274e-08\n",
      "hardship_amount: 0.00033062964266429947\n",
      "hardship_payoff_balance_amount: 2.9345671097771297e-06\n"
     ]
    }
   ],
   "source": [
    "# Print Lasso Coefficients that is not 0 \n",
    "coefficients = dict(zip(X_train.columns, lasso.coef_))\n",
    "print(\"Lasso Coefficients:\")\n",
    "lasso_picked_var = []\n",
    "for feature, coef in coefficients.items():\n",
    "    if coef != 0:\n",
    "        lasso_picked_var.append(feature)\n",
    "        print(f\"{feature}: {coef}\")"
   ]
  },
  {
   "cell_type": "code",
   "execution_count": 141,
   "id": "a615bb8f",
   "metadata": {},
   "outputs": [
    {
     "name": "stdout",
     "output_type": "stream",
     "text": [
      "         loan_amnt  funded_amnt  annual_inc  revol_bal     out_prncp  \\\n",
      "2273679       6000         6000     57000.0       5746      0.000000   \n",
      "323906       29775        29775    132400.0      48904  18171.859375   \n",
      "1292667      12000        12000       100.0       4824  10994.769531   \n",
      "546901       17000        17000     70000.0      17798   4956.120117   \n",
      "1000326      13500        13500     40000.0       8140   8557.540039   \n",
      "\n",
      "          total_pymnt  total_rec_prncp  total_rec_int  recoveries  \\\n",
      "2273679   6788.683105      6000.000000     788.679993         0.0   \n",
      "323906   29811.269531     11603.139648   18208.130859         0.0   \n",
      "1292667   2983.649902      1005.229980    1978.420044         0.0   \n",
      "546901   15679.269531     12043.879883    3577.629883         0.0   \n",
      "1000326   5820.779785      4942.459961     878.320007         0.0   \n",
      "\n",
      "         last_pymnt_amnt  ...  max_bal_bc  total_rev_hi_lim  avg_cur_bal  \\\n",
      "2273679      2743.520020  ...          -1             14200        12060   \n",
      "323906        896.780029  ...       20530             77900        35131   \n",
      "1292667       334.850006  ...        4815              6000         6231   \n",
      "546901        577.650024  ...        7207             27300         3790   \n",
      "1000326       413.519989  ...        6162             19700         1357   \n",
      "\n",
      "         bc_open_to_buy  tot_hi_cred_lim  total_bal_ex_mort  total_bc_limit  \\\n",
      "2273679            4779           118741               5746            8800   \n",
      "323906            10116           533637             120794           45000   \n",
      "1292667            1176            22561              18692            6000   \n",
      "546901             1426            45300              30319           18300   \n",
      "1000326            6802            19700               8140           14800   \n",
      "\n",
      "         total_il_high_credit_limit  hardship_amount  \\\n",
      "2273679                           0             -1.0   \n",
      "323906                        65476             -1.0   \n",
      "1292667                       16561             -1.0   \n",
      "546901                        18000             -1.0   \n",
      "1000326                           0             -1.0   \n",
      "\n",
      "         hardship_payoff_balance_amount  \n",
      "2273679                            -1.0  \n",
      "323906                             -1.0  \n",
      "1292667                            -1.0  \n",
      "546901                             -1.0  \n",
      "1000326                            -1.0  \n",
      "\n",
      "[5 rows x 26 columns]\n"
     ]
    }
   ],
   "source": [
    "# pick the X variables that LASSO tells us are significant\n",
    "X_train = X_train[lasso_picked_var]\n",
    "X_OOS_test = X_OOS_test[lasso_picked_var]\n",
    "\n",
    "# Output these files onto a csv file just incase we need to load them in again :) \n",
    "X_train.to_csv('X_train.csv', index=False) \n",
    "X_OOS_test.to_csv('X_OOS_test.csv', index=False) \n",
    "y_train.to_csv('y_train.csv', index=False) \n",
    "y_OOS_test.to_csv('y_OOS_test.csv', index=False) \n"
   ]
  },
  {
   "cell_type": "markdown",
   "id": "805cb854",
   "metadata": {},
   "source": [
    "## Undersampling \n",
    "Since we see that the data is highly imbalanced, we try to oversample the data set with random under sampler. "
   ]
  },
  {
   "cell_type": "code",
   "execution_count": 130,
   "id": "9d2d7d84",
   "metadata": {},
   "outputs": [],
   "source": [
    "# from imblearn.over_sampling import SMOTE\n",
    "from imblearn.under_sampling import RandomUnderSampler\n",
    "\n",
    "# solve error by downgrading to install scikit-learn==1.2.2 \n",
    "# ''' steps : \n",
    "# 1. install pip \n",
    "# 2. uninstall sci-kit \n",
    "# 3. uninstall imblearn\n",
    "# 4. install sci-kit 1.2.2 \n",
    "# 5. install imblearn \n",
    "# '''"
   ]
  },
  {
   "cell_type": "code",
   "execution_count": 131,
   "id": "1a528c4d",
   "metadata": {},
   "outputs": [],
   "source": [
    "# sm = SMOTE(random_state=42, sampling_strategy=0.2)\n",
    "\n",
    "# Undersample the dataset \n",
    "rus = RandomUnderSampler(random_state=0)\n",
    "X_resampled, y_resampled = rus.fit_resample(X_train, y_train)"
   ]
  },
  {
   "cell_type": "markdown",
   "id": "f5e782f8",
   "metadata": {},
   "source": [
    "See if the data is now balance or not "
   ]
  },
  {
   "cell_type": "code",
   "execution_count": 138,
   "id": "f27f4bf8",
   "metadata": {},
   "outputs": [
    {
     "name": "stdout",
     "output_type": "stream",
     "text": [
      "0    313925\n",
      "1    313925\n",
      "Name: default, dtype: int64\n"
     ]
    },
    {
     "data": {
      "text/plain": [
       "0"
      ]
     },
     "execution_count": 138,
     "metadata": {},
     "output_type": "execute_result"
    }
   ],
   "source": [
    "# Count the different values \n",
    "print(y_resampled.value_counts())\n",
    "\n",
    "# -- Code to Inspect the data set -- \n",
    "# df_oversampled = X_resampled\n",
    "# df_oversampled['Outcome_Variable'] = y_resampled\n",
    "# df_oversampled\n",
    "# fig, ax = plt.subplots(figsize=(10, 8))\n",
    "# df_oversampled['Outcome_Variable'].value_counts().plot(kind='bar', ax=ax, fontsize=14)\n",
    "# ax.set_title('Oversampled Dataset', fontsize=16)\n",
    "# ax.set_ylabel('Observation counts', fontsize=14)\n",
    "# ax.set_xlabel('Class', fontsize=14)\n",
    "# plt.show()\n"
   ]
  },
  {
   "cell_type": "markdown",
   "id": "61cbbecc",
   "metadata": {},
   "source": [
    "## K-Fold Cross Validation \n",
    "We setup K-Fold cross validation for parameters fine-tuning in the models below as a 5 Fold. "
   ]
  },
  {
   "cell_type": "code",
   "execution_count": 97,
   "id": "5d5baf83",
   "metadata": {},
   "outputs": [],
   "source": [
    "# Set up K-Fold Cross Validation \n",
    "n_splits = 5\n",
    "shuffle = True\n",
    "random_state = 809\n",
    "cv = KFold(n_splits=n_splits, shuffle=shuffle, random_state=random_state)\n",
    "# plot = plot_cv_indices(cv, X_resampled, y_resampled, n_splits)"
   ]
  },
  {
   "cell_type": "markdown",
   "id": "2991280a",
   "metadata": {},
   "source": [
    "## Model 1 : Logistic Regression "
   ]
  },
  {
   "cell_type": "code",
   "execution_count": 9,
   "id": "abb0ebd3",
   "metadata": {},
   "outputs": [],
   "source": [
    "# Function to plot the K-Fold stuff, don't need to run it. \n",
    "def plot_cv_indices(cv, X, y, n_splits, lw=10):\n",
    "    '''\n",
    "    This function plots the Cross validation indices.\n",
    "    '''\n",
    "    \n",
    "    fig, ax = plt.subplots(figsize = (15,8))\n",
    "    # Generate the training/testing visualizations for each CV split\n",
    "    for ii, (tr, tt) in enumerate(cv.split(X=X, y=y)):\n",
    "        # Fill in indices with the training/test groups\n",
    "        indices = np.array([np.nan] * len(X))\n",
    "        indices[tt] = 1\n",
    "        indices[tr] = 0\n",
    "\n",
    "        # Visualize the results\n",
    "        ax.scatter(range(len(indices)), [ii + .5] * len(indices),\n",
    "                   c=indices, marker='_', lw=lw, cmap=plt.cm.coolwarm,\n",
    "                   vmin=-.2, vmax=1.2)\n",
    "\n",
    "    # Plot the data classes\n",
    "    ax.scatter(range(len(X)), [ii + 1.5] * len(X), c=y, marker='_', lw=lw, cmap=plt.cm.Paired)\n",
    "\n",
    "    # Formatting\n",
    "    yticklabels = list(range(n_splits)) + ['Class']\n",
    "    ax.set(yticks=np.arange(n_splits+1) + .5, yticklabels=yticklabels,\n",
    "           xlabel='Sample index', ylabel=\"CV iteration\",\n",
    "           ylim=[n_splits+2.2, -.2])\n",
    "    ax.set_title('{}'.format(type(cv).__name__), fontsize=15)\n",
    "    return ax"
   ]
  },
  {
   "cell_type": "code",
   "execution_count": 139,
   "id": "1dbaa24c",
   "metadata": {},
   "outputs": [
    {
     "name": "stderr",
     "output_type": "stream",
     "text": [
      "/Users/dhammatornriewcharoon/anaconda3/lib/python3.11/site-packages/sklearn/linear_model/_logistic.py:458: ConvergenceWarning: lbfgs failed to converge (status=1):\n",
      "STOP: TOTAL NO. of ITERATIONS REACHED LIMIT.\n",
      "\n",
      "Increase the number of iterations (max_iter) or scale the data as shown in:\n",
      "    https://scikit-learn.org/stable/modules/preprocessing.html\n",
      "Please also refer to the documentation for alternative solver options:\n",
      "    https://scikit-learn.org/stable/modules/linear_model.html#logistic-regression\n",
      "  n_iter_i = _check_optimize_result(\n"
     ]
    },
    {
     "name": "stdout",
     "output_type": "stream",
     "text": [
      "0.9592338934458867\n"
     ]
    },
    {
     "name": "stderr",
     "output_type": "stream",
     "text": [
      "/Users/dhammatornriewcharoon/anaconda3/lib/python3.11/site-packages/sklearn/linear_model/_logistic.py:458: ConvergenceWarning: lbfgs failed to converge (status=1):\n",
      "STOP: TOTAL NO. of ITERATIONS REACHED LIMIT.\n",
      "\n",
      "Increase the number of iterations (max_iter) or scale the data as shown in:\n",
      "    https://scikit-learn.org/stable/modules/preprocessing.html\n",
      "Please also refer to the documentation for alternative solver options:\n",
      "    https://scikit-learn.org/stable/modules/linear_model.html#logistic-regression\n",
      "  n_iter_i = _check_optimize_result(\n"
     ]
    },
    {
     "name": "stdout",
     "output_type": "stream",
     "text": [
      "0.9577685752966473\n"
     ]
    },
    {
     "name": "stderr",
     "output_type": "stream",
     "text": [
      "/Users/dhammatornriewcharoon/anaconda3/lib/python3.11/site-packages/sklearn/linear_model/_logistic.py:458: ConvergenceWarning: lbfgs failed to converge (status=1):\n",
      "STOP: TOTAL NO. of ITERATIONS REACHED LIMIT.\n",
      "\n",
      "Increase the number of iterations (max_iter) or scale the data as shown in:\n",
      "    https://scikit-learn.org/stable/modules/preprocessing.html\n",
      "Please also refer to the documentation for alternative solver options:\n",
      "    https://scikit-learn.org/stable/modules/linear_model.html#logistic-regression\n",
      "  n_iter_i = _check_optimize_result(\n"
     ]
    },
    {
     "name": "stdout",
     "output_type": "stream",
     "text": [
      "0.9592338934458867\n"
     ]
    },
    {
     "name": "stderr",
     "output_type": "stream",
     "text": [
      "/Users/dhammatornriewcharoon/anaconda3/lib/python3.11/site-packages/sklearn/linear_model/_logistic.py:458: ConvergenceWarning: lbfgs failed to converge (status=1):\n",
      "STOP: TOTAL NO. of ITERATIONS REACHED LIMIT.\n",
      "\n",
      "Increase the number of iterations (max_iter) or scale the data as shown in:\n",
      "    https://scikit-learn.org/stable/modules/preprocessing.html\n",
      "Please also refer to the documentation for alternative solver options:\n",
      "    https://scikit-learn.org/stable/modules/linear_model.html#logistic-regression\n",
      "  n_iter_i = _check_optimize_result(\n"
     ]
    },
    {
     "name": "stdout",
     "output_type": "stream",
     "text": [
      "0.9592100023891057\n",
      "0.9564147487457195\n"
     ]
    },
    {
     "name": "stderr",
     "output_type": "stream",
     "text": [
      "/Users/dhammatornriewcharoon/anaconda3/lib/python3.11/site-packages/sklearn/linear_model/_logistic.py:458: ConvergenceWarning: lbfgs failed to converge (status=1):\n",
      "STOP: TOTAL NO. of ITERATIONS REACHED LIMIT.\n",
      "\n",
      "Increase the number of iterations (max_iter) or scale the data as shown in:\n",
      "    https://scikit-learn.org/stable/modules/preprocessing.html\n",
      "Please also refer to the documentation for alternative solver options:\n",
      "    https://scikit-learn.org/stable/modules/linear_model.html#logistic-regression\n",
      "  n_iter_i = _check_optimize_result(\n"
     ]
    }
   ],
   "source": [
    "# Model 1 : Logistic Model - K-Flod Cross Validation \n",
    "logistic_model = LogisticRegression(solver='lbfgs', max_iter=300)\n",
    "for train_index, test_index in cv.split(X_resampled):\n",
    "    X_cv_train, X_cv_test, y_cv_train, y_cv_test = X_resampled.iloc[train_index], X_resampled.iloc[test_index], y_resampled.iloc[train_index], y_resampled.iloc[test_index]\n",
    "    logistic_model.fit(X_cv_train, y_cv_train)\n",
    "    #Cross-Validation Prediction Error\n",
    "    score = logistic_model.score(X_cv_test, y_cv_test)\n",
    "    print(score)"
   ]
  },
  {
   "cell_type": "code",
   "execution_count": 121,
   "id": "5781f426",
   "metadata": {},
   "outputs": [
    {
     "name": "stdout",
     "output_type": "stream",
     "text": [
      "Logistic Model score : 0.9846037709350093\n",
      "Logistic Model Recall :  0.8631578947368421\n",
      "Logistic Model Precision :  0.08668076109936575\n",
      "Probability if you only predict 0s  0.998\n"
     ]
    }
   ],
   "source": [
    "# Just the logit regression, and OOS Prediction \n",
    "logit = LogisticRegression(solver='lbfgs', max_iter=1000)\n",
    "logit.fit(X_resampled, y_resampled)    \n",
    "score_OOS = logit.score(X_OOS_test, y_OOS_test)\n",
    "print (\"Logistic Model score :\" , score_OOS)\n",
    "y_pred = logit.predict(X_OOS_test)\n",
    "print(\"Logistic Model Recall : \" , recall_score(y_OOS_test, y_pred))\n",
    "print(\"Logistic Model Precision : \", precision_score(y_OOS_test,y_pred))\n",
    "print(\"Probability if you only predict 0s \", 1-round(95/56867,3))"
   ]
  },
  {
   "cell_type": "markdown",
   "id": "37c02911",
   "metadata": {},
   "source": [
    "\n",
    "\n",
    "## Model 2 : Lasso "
   ]
  },
  {
   "cell_type": "code",
   "execution_count": 15,
   "id": "1d072777",
   "metadata": {},
   "outputs": [],
   "source": [
    "# Model 2 : LASSO \n",
    "\n",
    "# Cross Validate the penalty term in lasso\n",
    "cross_validate_result = {}  \n",
    "# initial alpha setup \n",
    "iter_alpha = 0.01\n",
    "for penalty_term in range(100): \n",
    "    print(penalty_term)\n",
    "    accuracies = [] \n",
    "    lasso = linear_model.Lasso(alpha=iter_alpha)\n",
    "    for train_index, test_index in cv.split(X_resampled):\n",
    "        # change to loc to define the rows in the dataframe \n",
    "        X_cv_train, X_cv_test, y_cv_train, y_cv_test = X_resampled.loc[train_index], X_resampled.loc[test_index], y_resampled[train_index], y_resampled[test_index]\n",
    "        logistic_model.fit(X_cv_train, y_cv_train)\n",
    "        #Cross-Validation Prediction Error\n",
    "        score = logistic_model.score(X_cv_test, y_cv_test)\n",
    "        accuracies.append(score)\n",
    "    cross_validate_result[penalty_term] = (sum(accuracies)/len(accuracies))\n",
    "    iter_alpha += 0.05\n",
    "    print(\"Alpha : \" + str(iter_alpha) + \" \" + str((sum(accuracies)/len(accuracies))))\n",
    "# At the end you'll see what the value of each LASSO paramter is\n",
    "print(cross_validate_result)\n",
    "print(max(cross_validate_result, key=cross_validate_result.get))\n",
    "    "
   ]
  },
  {
   "cell_type": "markdown",
   "id": "973407f6",
   "metadata": {},
   "source": [
    "### OLS vs Lasso vs Ridge regression"
   ]
  },
  {
   "cell_type": "code",
   "execution_count": 142,
   "id": "6354c645",
   "metadata": {},
   "outputs": [
    {
     "name": "stdout",
     "output_type": "stream",
     "text": [
      "OLS Model Recall :  0.9263700805406642\n",
      "OLS Model Precision :  0.7393415863166752\n",
      "--\n"
     ]
    },
    {
     "name": "stderr",
     "output_type": "stream",
     "text": [
      "/Users/dhammatornriewcharoon/anaconda3/lib/python3.11/site-packages/sklearn/linear_model/_coordinate_descent.py:631: ConvergenceWarning: Objective did not converge. You might want to increase the number of iterations, check the scale of the features or consider increasing regularisation. Duality gap: 3.284e+03, tolerance: 1.570e+01\n",
      "  model = cd_fast.enet_coordinate_descent(\n"
     ]
    },
    {
     "name": "stdout",
     "output_type": "stream",
     "text": [
      "LASSO score : \n",
      "LASSO Model Recall :  0.9209964684062095\n",
      "LASSO Model Precision :  0.7656296202424703\n",
      "--\n",
      "Ridge Model Recall :  0.9263700805406642\n",
      "Ridge Model Precision :  0.7393415863166752\n"
     ]
    }
   ],
   "source": [
    "# OLS \n",
    "ols = linear_model.LinearRegression()\n",
    "ols.fit(X_resampled, y_resampled)    \n",
    "y_pred = ols.predict(X_OOS_test)\n",
    "# turn the continous value into classification via simple >= 0.5 is 1 \n",
    "y_pred_classification = [1 if x >= 0.5 else 0 for x in y_pred]\n",
    "print(\"OLS Model Recall : \" , recall_score(y_OOS_test, y_pred_classification))\n",
    "print(\"OLS Model Precision : \", precision_score(y_OOS_test,y_pred_classification))\n",
    "print(\"--\")\n",
    "\n",
    "# LASSO \n",
    "lasso = linear_model.Lasso(max_iter=2000)\n",
    "lasso.fit(X_resampled, y_resampled)\n",
    "y_pred = lasso.predict(X_OOS_test)\n",
    "# turn the continous value into classification via simple >= 0.5 is 1 \n",
    "y_pred_classification = [1 if x >= 0.5 else 0 for x in y_pred]\n",
    "print(\"LASSO score : \" , )\n",
    "print(\"LASSO Model Recall : \" , recall_score(y_OOS_test, y_pred_classification))\n",
    "print(\"LASSO Model Precision : \", precision_score(y_OOS_test,y_pred_classification))\n",
    "print(\"--\")\n",
    "\n",
    "# RIDGE\n",
    "ridge = linear_model.Ridge(alpha=1)\n",
    "ridge.fit(X_resampled, y_resampled)\n",
    "y_pred = ridge.predict(X_OOS_test)\n",
    "# turn the continous value into classification via simple >= 0.5 is 1 \n",
    "y_pred_classification = [1 if x >= 0.5 else 0 for x in y_pred]\n",
    "print(\"Ridge Model Recall : \" , recall_score(y_OOS_test, y_pred_classification))\n",
    "print(\"Ridge Model Precision : \", precision_score(y_OOS_test,y_pred_classification))"
   ]
  },
  {
   "cell_type": "markdown",
   "id": "47996542",
   "metadata": {},
   "source": [
    "\n",
    "## Random Forest "
   ]
  },
  {
   "cell_type": "code",
   "execution_count": 144,
   "id": "289dfa79",
   "metadata": {},
   "outputs": [
    {
     "data": {
      "text/html": [
       "<style>#sk-container-id-5 {color: black;background-color: white;}#sk-container-id-5 pre{padding: 0;}#sk-container-id-5 div.sk-toggleable {background-color: white;}#sk-container-id-5 label.sk-toggleable__label {cursor: pointer;display: block;width: 100%;margin-bottom: 0;padding: 0.3em;box-sizing: border-box;text-align: center;}#sk-container-id-5 label.sk-toggleable__label-arrow:before {content: \"▸\";float: left;margin-right: 0.25em;color: #696969;}#sk-container-id-5 label.sk-toggleable__label-arrow:hover:before {color: black;}#sk-container-id-5 div.sk-estimator:hover label.sk-toggleable__label-arrow:before {color: black;}#sk-container-id-5 div.sk-toggleable__content {max-height: 0;max-width: 0;overflow: hidden;text-align: left;background-color: #f0f8ff;}#sk-container-id-5 div.sk-toggleable__content pre {margin: 0.2em;color: black;border-radius: 0.25em;background-color: #f0f8ff;}#sk-container-id-5 input.sk-toggleable__control:checked~div.sk-toggleable__content {max-height: 200px;max-width: 100%;overflow: auto;}#sk-container-id-5 input.sk-toggleable__control:checked~label.sk-toggleable__label-arrow:before {content: \"▾\";}#sk-container-id-5 div.sk-estimator input.sk-toggleable__control:checked~label.sk-toggleable__label {background-color: #d4ebff;}#sk-container-id-5 div.sk-label input.sk-toggleable__control:checked~label.sk-toggleable__label {background-color: #d4ebff;}#sk-container-id-5 input.sk-hidden--visually {border: 0;clip: rect(1px 1px 1px 1px);clip: rect(1px, 1px, 1px, 1px);height: 1px;margin: -1px;overflow: hidden;padding: 0;position: absolute;width: 1px;}#sk-container-id-5 div.sk-estimator {font-family: monospace;background-color: #f0f8ff;border: 1px dotted black;border-radius: 0.25em;box-sizing: border-box;margin-bottom: 0.5em;}#sk-container-id-5 div.sk-estimator:hover {background-color: #d4ebff;}#sk-container-id-5 div.sk-parallel-item::after {content: \"\";width: 100%;border-bottom: 1px solid gray;flex-grow: 1;}#sk-container-id-5 div.sk-label:hover label.sk-toggleable__label {background-color: #d4ebff;}#sk-container-id-5 div.sk-serial::before {content: \"\";position: absolute;border-left: 1px solid gray;box-sizing: border-box;top: 0;bottom: 0;left: 50%;z-index: 0;}#sk-container-id-5 div.sk-serial {display: flex;flex-direction: column;align-items: center;background-color: white;padding-right: 0.2em;padding-left: 0.2em;position: relative;}#sk-container-id-5 div.sk-item {position: relative;z-index: 1;}#sk-container-id-5 div.sk-parallel {display: flex;align-items: stretch;justify-content: center;background-color: white;position: relative;}#sk-container-id-5 div.sk-item::before, #sk-container-id-5 div.sk-parallel-item::before {content: \"\";position: absolute;border-left: 1px solid gray;box-sizing: border-box;top: 0;bottom: 0;left: 50%;z-index: -1;}#sk-container-id-5 div.sk-parallel-item {display: flex;flex-direction: column;z-index: 1;position: relative;background-color: white;}#sk-container-id-5 div.sk-parallel-item:first-child::after {align-self: flex-end;width: 50%;}#sk-container-id-5 div.sk-parallel-item:last-child::after {align-self: flex-start;width: 50%;}#sk-container-id-5 div.sk-parallel-item:only-child::after {width: 0;}#sk-container-id-5 div.sk-dashed-wrapped {border: 1px dashed gray;margin: 0 0.4em 0.5em 0.4em;box-sizing: border-box;padding-bottom: 0.4em;background-color: white;}#sk-container-id-5 div.sk-label label {font-family: monospace;font-weight: bold;display: inline-block;line-height: 1.2em;}#sk-container-id-5 div.sk-label-container {text-align: center;}#sk-container-id-5 div.sk-container {/* jupyter's `normalize.less` sets `[hidden] { display: none; }` but bootstrap.min.css set `[hidden] { display: none !important; }` so we also need the `!important` here to be able to override the default hidden behavior on the sphinx rendered scikit-learn.org. See: https://github.com/scikit-learn/scikit-learn/issues/21755 */display: inline-block !important;position: relative;}#sk-container-id-5 div.sk-text-repr-fallback {display: none;}</style><div id=\"sk-container-id-5\" class=\"sk-top-container\"><div class=\"sk-text-repr-fallback\"><pre>RandomForestClassifier(max_depth=2, n_estimators=50, random_state=0)</pre><b>In a Jupyter environment, please rerun this cell to show the HTML representation or trust the notebook. <br />On GitHub, the HTML representation is unable to render, please try loading this page with nbviewer.org.</b></div><div class=\"sk-container\" hidden><div class=\"sk-item\"><div class=\"sk-estimator sk-toggleable\"><input class=\"sk-toggleable__control sk-hidden--visually\" id=\"sk-estimator-id-5\" type=\"checkbox\" checked><label for=\"sk-estimator-id-5\" class=\"sk-toggleable__label sk-toggleable__label-arrow\">RandomForestClassifier</label><div class=\"sk-toggleable__content\"><pre>RandomForestClassifier(max_depth=2, n_estimators=50, random_state=0)</pre></div></div></div></div></div>"
      ],
      "text/plain": [
       "RandomForestClassifier(max_depth=2, n_estimators=50, random_state=0)"
      ]
     },
     "execution_count": 144,
     "metadata": {},
     "output_type": "execute_result"
    }
   ],
   "source": [
    "\n",
    "random_forest = RandomForestClassifier(n_estimators = 50, max_depth=2, random_state=0)\n",
    "random_forest.fit(X_resampled, y_resampled)\n"
   ]
  },
  {
   "cell_type": "code",
   "execution_count": 145,
   "id": "b720bb1b",
   "metadata": {},
   "outputs": [
    {
     "name": "stdout",
     "output_type": "stream",
     "text": [
      "RND Forest Model Recall :  0.9351101399933941\n",
      "RND Forest Precision :  0.5590236641453264\n"
     ]
    }
   ],
   "source": [
    "y_pred = random_forest.predict(X_OOS_test)\n",
    "print(\"RND Forest Model Recall : \" , recall_score(y_OOS_test, y_pred))\n",
    "print(\"RND Forest Precision : \", precision_score(y_OOS_test,y_pred))"
   ]
  },
  {
   "cell_type": "markdown",
   "id": "dc4b90d5",
   "metadata": {},
   "source": [
    "## Random forest with LASSO selected variables "
   ]
  },
  {
   "cell_type": "code",
   "execution_count": 148,
   "id": "0655c8ee",
   "metadata": {},
   "outputs": [
    {
     "name": "stdout",
     "output_type": "stream",
     "text": [
      "Lasso Coefficients:\n",
      "loan_amnt: 1.8418480746059375e-05\n",
      "funded_amnt: 2.9019797925382364e-06\n",
      "annual_inc: -1.3709759550735986e-08\n",
      "revol_bal: -1.7393438914558872e-07\n",
      "out_prncp: -2.850765645641118e-05\n",
      "total_pymnt: 5.3393656354463745e-06\n",
      "total_rec_prncp: -3.463307740446701e-05\n",
      "recoveries: 7.0018388011694515e-06\n",
      "last_pymnt_amnt: -8.652162154755563e-06\n",
      "last_fico_range_high: -0.0025560709826554567\n",
      "annual_inc_joint: 1.1166230875702334e-07\n",
      "tot_cur_bal: -1.077267273772772e-07\n",
      "total_bal_il: -3.9327418478560655e-07\n",
      "max_bal_bc: -1.4982387187530531e-06\n",
      "total_rev_hi_lim: 1.1005262929425867e-07\n",
      "avg_cur_bal: -8.910101544429647e-08\n",
      "bc_open_to_buy: 7.965068057032995e-07\n",
      "tot_hi_cred_lim: 1.0138721654544001e-07\n",
      "total_bal_ex_mort: 1.818104479147108e-07\n",
      "total_bc_limit: -1.6730792810998994e-07\n",
      "total_il_high_credit_limit: -2.7529721533961274e-08\n",
      "hardship_amount: 0.00033062964266429947\n",
      "hardship_payoff_balance_amount: 2.9345671097771297e-06\n"
     ]
    }
   ],
   "source": [
    "\n",
    "# Pick the coefficients that is not zero from LASSO \n",
    "coefficients = dict(zip(X_train.columns, lasso.coef_))\n",
    "print(\"Lasso Coefficients:\")\n",
    "lasso_picked_var = []\n",
    "for feature, coef in coefficients.items():\n",
    "    if coef != 0:\n",
    "        lasso_picked_var.append(feature)\n",
    "        print(f\"{feature}: {coef}\")"
   ]
  },
  {
   "cell_type": "code",
   "execution_count": 149,
   "id": "790726fd",
   "metadata": {},
   "outputs": [
    {
     "data": {
      "text/html": [
       "<style>#sk-container-id-6 {color: black;background-color: white;}#sk-container-id-6 pre{padding: 0;}#sk-container-id-6 div.sk-toggleable {background-color: white;}#sk-container-id-6 label.sk-toggleable__label {cursor: pointer;display: block;width: 100%;margin-bottom: 0;padding: 0.3em;box-sizing: border-box;text-align: center;}#sk-container-id-6 label.sk-toggleable__label-arrow:before {content: \"▸\";float: left;margin-right: 0.25em;color: #696969;}#sk-container-id-6 label.sk-toggleable__label-arrow:hover:before {color: black;}#sk-container-id-6 div.sk-estimator:hover label.sk-toggleable__label-arrow:before {color: black;}#sk-container-id-6 div.sk-toggleable__content {max-height: 0;max-width: 0;overflow: hidden;text-align: left;background-color: #f0f8ff;}#sk-container-id-6 div.sk-toggleable__content pre {margin: 0.2em;color: black;border-radius: 0.25em;background-color: #f0f8ff;}#sk-container-id-6 input.sk-toggleable__control:checked~div.sk-toggleable__content {max-height: 200px;max-width: 100%;overflow: auto;}#sk-container-id-6 input.sk-toggleable__control:checked~label.sk-toggleable__label-arrow:before {content: \"▾\";}#sk-container-id-6 div.sk-estimator input.sk-toggleable__control:checked~label.sk-toggleable__label {background-color: #d4ebff;}#sk-container-id-6 div.sk-label input.sk-toggleable__control:checked~label.sk-toggleable__label {background-color: #d4ebff;}#sk-container-id-6 input.sk-hidden--visually {border: 0;clip: rect(1px 1px 1px 1px);clip: rect(1px, 1px, 1px, 1px);height: 1px;margin: -1px;overflow: hidden;padding: 0;position: absolute;width: 1px;}#sk-container-id-6 div.sk-estimator {font-family: monospace;background-color: #f0f8ff;border: 1px dotted black;border-radius: 0.25em;box-sizing: border-box;margin-bottom: 0.5em;}#sk-container-id-6 div.sk-estimator:hover {background-color: #d4ebff;}#sk-container-id-6 div.sk-parallel-item::after {content: \"\";width: 100%;border-bottom: 1px solid gray;flex-grow: 1;}#sk-container-id-6 div.sk-label:hover label.sk-toggleable__label {background-color: #d4ebff;}#sk-container-id-6 div.sk-serial::before {content: \"\";position: absolute;border-left: 1px solid gray;box-sizing: border-box;top: 0;bottom: 0;left: 50%;z-index: 0;}#sk-container-id-6 div.sk-serial {display: flex;flex-direction: column;align-items: center;background-color: white;padding-right: 0.2em;padding-left: 0.2em;position: relative;}#sk-container-id-6 div.sk-item {position: relative;z-index: 1;}#sk-container-id-6 div.sk-parallel {display: flex;align-items: stretch;justify-content: center;background-color: white;position: relative;}#sk-container-id-6 div.sk-item::before, #sk-container-id-6 div.sk-parallel-item::before {content: \"\";position: absolute;border-left: 1px solid gray;box-sizing: border-box;top: 0;bottom: 0;left: 50%;z-index: -1;}#sk-container-id-6 div.sk-parallel-item {display: flex;flex-direction: column;z-index: 1;position: relative;background-color: white;}#sk-container-id-6 div.sk-parallel-item:first-child::after {align-self: flex-end;width: 50%;}#sk-container-id-6 div.sk-parallel-item:last-child::after {align-self: flex-start;width: 50%;}#sk-container-id-6 div.sk-parallel-item:only-child::after {width: 0;}#sk-container-id-6 div.sk-dashed-wrapped {border: 1px dashed gray;margin: 0 0.4em 0.5em 0.4em;box-sizing: border-box;padding-bottom: 0.4em;background-color: white;}#sk-container-id-6 div.sk-label label {font-family: monospace;font-weight: bold;display: inline-block;line-height: 1.2em;}#sk-container-id-6 div.sk-label-container {text-align: center;}#sk-container-id-6 div.sk-container {/* jupyter's `normalize.less` sets `[hidden] { display: none; }` but bootstrap.min.css set `[hidden] { display: none !important; }` so we also need the `!important` here to be able to override the default hidden behavior on the sphinx rendered scikit-learn.org. See: https://github.com/scikit-learn/scikit-learn/issues/21755 */display: inline-block !important;position: relative;}#sk-container-id-6 div.sk-text-repr-fallback {display: none;}</style><div id=\"sk-container-id-6\" class=\"sk-top-container\"><div class=\"sk-text-repr-fallback\"><pre>RandomForestClassifier(max_depth=2)</pre><b>In a Jupyter environment, please rerun this cell to show the HTML representation or trust the notebook. <br />On GitHub, the HTML representation is unable to render, please try loading this page with nbviewer.org.</b></div><div class=\"sk-container\" hidden><div class=\"sk-item\"><div class=\"sk-estimator sk-toggleable\"><input class=\"sk-toggleable__control sk-hidden--visually\" id=\"sk-estimator-id-6\" type=\"checkbox\" checked><label for=\"sk-estimator-id-6\" class=\"sk-toggleable__label sk-toggleable__label-arrow\">RandomForestClassifier</label><div class=\"sk-toggleable__content\"><pre>RandomForestClassifier(max_depth=2)</pre></div></div></div></div></div>"
      ],
      "text/plain": [
       "RandomForestClassifier(max_depth=2)"
      ]
     },
     "execution_count": 149,
     "metadata": {},
     "output_type": "execute_result"
    }
   ],
   "source": [
    "# Random forest + LASSO \n",
    "X_train_rf_lasso = X_resampled[lasso_picked_var]\n",
    "rf_lasso = RandomForestClassifier(max_depth=2)\n",
    "rf_lasso.fit(X_train_rf_lasso, y_resampled)"
   ]
  },
  {
   "cell_type": "code",
   "execution_count": 151,
   "id": "465e08b3",
   "metadata": {},
   "outputs": [
    {
     "name": "stdout",
     "output_type": "stream",
     "text": [
      "RND Forest with LASSO Model Recall :  0.9183414212759471\n",
      "RND Forest with LASSO Precision :  0.7333502409332995\n"
     ]
    }
   ],
   "source": [
    "X_test_rf_lasso_OOS = X_OOS_test[lasso_picked_var]\n",
    "y_pred = rf_lasso.predict(X_test_rf_lasso_OOS)\n",
    "print(\"RND Forest with LASSO Model Recall : \" , recall_score(y_OOS_test, y_pred))\n",
    "print(\"RND Forest with LASSO Precision : \", precision_score(y_OOS_test,y_pred))"
   ]
  },
  {
   "cell_type": "markdown",
   "id": "e1942d64",
   "metadata": {},
   "source": [
    "## Using Param Grid to search for best value with K-Fold Cross Validation "
   ]
  },
  {
   "cell_type": "code",
   "execution_count": 128,
   "id": "6c434e4b",
   "metadata": {},
   "outputs": [
    {
     "data": {
      "text/html": [
       "<style>#sk-container-id-14 {color: black;background-color: white;}#sk-container-id-14 pre{padding: 0;}#sk-container-id-14 div.sk-toggleable {background-color: white;}#sk-container-id-14 label.sk-toggleable__label {cursor: pointer;display: block;width: 100%;margin-bottom: 0;padding: 0.3em;box-sizing: border-box;text-align: center;}#sk-container-id-14 label.sk-toggleable__label-arrow:before {content: \"▸\";float: left;margin-right: 0.25em;color: #696969;}#sk-container-id-14 label.sk-toggleable__label-arrow:hover:before {color: black;}#sk-container-id-14 div.sk-estimator:hover label.sk-toggleable__label-arrow:before {color: black;}#sk-container-id-14 div.sk-toggleable__content {max-height: 0;max-width: 0;overflow: hidden;text-align: left;background-color: #f0f8ff;}#sk-container-id-14 div.sk-toggleable__content pre {margin: 0.2em;color: black;border-radius: 0.25em;background-color: #f0f8ff;}#sk-container-id-14 input.sk-toggleable__control:checked~div.sk-toggleable__content {max-height: 200px;max-width: 100%;overflow: auto;}#sk-container-id-14 input.sk-toggleable__control:checked~label.sk-toggleable__label-arrow:before {content: \"▾\";}#sk-container-id-14 div.sk-estimator input.sk-toggleable__control:checked~label.sk-toggleable__label {background-color: #d4ebff;}#sk-container-id-14 div.sk-label input.sk-toggleable__control:checked~label.sk-toggleable__label {background-color: #d4ebff;}#sk-container-id-14 input.sk-hidden--visually {border: 0;clip: rect(1px 1px 1px 1px);clip: rect(1px, 1px, 1px, 1px);height: 1px;margin: -1px;overflow: hidden;padding: 0;position: absolute;width: 1px;}#sk-container-id-14 div.sk-estimator {font-family: monospace;background-color: #f0f8ff;border: 1px dotted black;border-radius: 0.25em;box-sizing: border-box;margin-bottom: 0.5em;}#sk-container-id-14 div.sk-estimator:hover {background-color: #d4ebff;}#sk-container-id-14 div.sk-parallel-item::after {content: \"\";width: 100%;border-bottom: 1px solid gray;flex-grow: 1;}#sk-container-id-14 div.sk-label:hover label.sk-toggleable__label {background-color: #d4ebff;}#sk-container-id-14 div.sk-serial::before {content: \"\";position: absolute;border-left: 1px solid gray;box-sizing: border-box;top: 0;bottom: 0;left: 50%;z-index: 0;}#sk-container-id-14 div.sk-serial {display: flex;flex-direction: column;align-items: center;background-color: white;padding-right: 0.2em;padding-left: 0.2em;position: relative;}#sk-container-id-14 div.sk-item {position: relative;z-index: 1;}#sk-container-id-14 div.sk-parallel {display: flex;align-items: stretch;justify-content: center;background-color: white;position: relative;}#sk-container-id-14 div.sk-item::before, #sk-container-id-14 div.sk-parallel-item::before {content: \"\";position: absolute;border-left: 1px solid gray;box-sizing: border-box;top: 0;bottom: 0;left: 50%;z-index: -1;}#sk-container-id-14 div.sk-parallel-item {display: flex;flex-direction: column;z-index: 1;position: relative;background-color: white;}#sk-container-id-14 div.sk-parallel-item:first-child::after {align-self: flex-end;width: 50%;}#sk-container-id-14 div.sk-parallel-item:last-child::after {align-self: flex-start;width: 50%;}#sk-container-id-14 div.sk-parallel-item:only-child::after {width: 0;}#sk-container-id-14 div.sk-dashed-wrapped {border: 1px dashed gray;margin: 0 0.4em 0.5em 0.4em;box-sizing: border-box;padding-bottom: 0.4em;background-color: white;}#sk-container-id-14 div.sk-label label {font-family: monospace;font-weight: bold;display: inline-block;line-height: 1.2em;}#sk-container-id-14 div.sk-label-container {text-align: center;}#sk-container-id-14 div.sk-container {/* jupyter's `normalize.less` sets `[hidden] { display: none; }` but bootstrap.min.css set `[hidden] { display: none !important; }` so we also need the `!important` here to be able to override the default hidden behavior on the sphinx rendered scikit-learn.org. See: https://github.com/scikit-learn/scikit-learn/issues/21755 */display: inline-block !important;position: relative;}#sk-container-id-14 div.sk-text-repr-fallback {display: none;}</style><div id=\"sk-container-id-14\" class=\"sk-top-container\"><div class=\"sk-text-repr-fallback\"><pre>GridSearchCV(cv=KFold(n_splits=5, random_state=809, shuffle=True),\n",
       "             estimator=RandomForestClassifier(), n_jobs=3,\n",
       "             param_grid=[{&#x27;max_depth&#x27;: [10, 20, 30],\n",
       "                          &#x27;n_estimators&#x27;: [200, 225, 250]}])</pre><b>In a Jupyter environment, please rerun this cell to show the HTML representation or trust the notebook. <br />On GitHub, the HTML representation is unable to render, please try loading this page with nbviewer.org.</b></div><div class=\"sk-container\" hidden><div class=\"sk-item sk-dashed-wrapped\"><div class=\"sk-label-container\"><div class=\"sk-label sk-toggleable\"><input class=\"sk-toggleable__control sk-hidden--visually\" id=\"sk-estimator-id-20\" type=\"checkbox\" ><label for=\"sk-estimator-id-20\" class=\"sk-toggleable__label sk-toggleable__label-arrow\">GridSearchCV</label><div class=\"sk-toggleable__content\"><pre>GridSearchCV(cv=KFold(n_splits=5, random_state=809, shuffle=True),\n",
       "             estimator=RandomForestClassifier(), n_jobs=3,\n",
       "             param_grid=[{&#x27;max_depth&#x27;: [10, 20, 30],\n",
       "                          &#x27;n_estimators&#x27;: [200, 225, 250]}])</pre></div></div></div><div class=\"sk-parallel\"><div class=\"sk-parallel-item\"><div class=\"sk-item\"><div class=\"sk-label-container\"><div class=\"sk-label sk-toggleable\"><input class=\"sk-toggleable__control sk-hidden--visually\" id=\"sk-estimator-id-21\" type=\"checkbox\" ><label for=\"sk-estimator-id-21\" class=\"sk-toggleable__label sk-toggleable__label-arrow\">estimator: RandomForestClassifier</label><div class=\"sk-toggleable__content\"><pre>RandomForestClassifier()</pre></div></div></div><div class=\"sk-serial\"><div class=\"sk-item\"><div class=\"sk-estimator sk-toggleable\"><input class=\"sk-toggleable__control sk-hidden--visually\" id=\"sk-estimator-id-22\" type=\"checkbox\" ><label for=\"sk-estimator-id-22\" class=\"sk-toggleable__label sk-toggleable__label-arrow\">RandomForestClassifier</label><div class=\"sk-toggleable__content\"><pre>RandomForestClassifier()</pre></div></div></div></div></div></div></div></div></div></div>"
      ],
      "text/plain": [
       "GridSearchCV(cv=KFold(n_splits=5, random_state=809, shuffle=True),\n",
       "             estimator=RandomForestClassifier(), n_jobs=3,\n",
       "             param_grid=[{'max_depth': [10, 20, 30],\n",
       "                          'n_estimators': [200, 225, 250]}])"
      ]
     },
     "execution_count": 128,
     "metadata": {},
     "output_type": "execute_result"
    }
   ],
   "source": [
    "\n",
    "param_grid = [{'n_estimators': [200,225,250], 'max_depth' :[10,20,30]}]\n",
    "random_forest_cv = RandomForestClassifier()\n",
    "grid_cv = GridSearchCV(estimator=random_forest_cv, cv=cv, param_grid=param_grid, n_jobs = 3)\n",
    "grid_cv.fit(X_train_rf_lasso, y_resampled)"
   ]
  },
  {
   "cell_type": "code",
   "execution_count": 129,
   "id": "da84bd6d",
   "metadata": {},
   "outputs": [
    {
     "name": "stdout",
     "output_type": "stream",
     "text": [
      "RandomForestClassifier(max_depth=30, n_estimators=250)\n"
     ]
    }
   ],
   "source": [
    "print(grid_cv.best_estimator_)\n"
   ]
  }
 ],
 "metadata": {
  "kernelspec": {
   "display_name": "Python 3 (ipykernel)",
   "language": "python",
   "name": "python3"
  },
  "language_info": {
   "codemirror_mode": {
    "name": "ipython",
    "version": 3
   },
   "file_extension": ".py",
   "mimetype": "text/x-python",
   "name": "python",
   "nbconvert_exporter": "python",
   "pygments_lexer": "ipython3",
   "version": "3.11.4"
  }
 },
 "nbformat": 4,
 "nbformat_minor": 5
}
